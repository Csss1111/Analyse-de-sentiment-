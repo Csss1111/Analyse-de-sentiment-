{
 "cells": [
  {
   "cell_type": "markdown",
   "metadata": {},
   "source": [
    "## Analyse de sentiment en dialecte burkinabe "
   ]
  },
  {
   "cell_type": "markdown",
   "metadata": {},
   "source": [
    "- **Importation de bibliotheques**"
   ]
  },
  {
   "cell_type": "code",
   "execution_count": 1,
   "metadata": {},
   "outputs": [],
   "source": [
    "import json\n",
    "import pandas as pd \n",
    "import numpy as np\n",
    "import seaborn as sns\n",
    "import matplotlib.pyplot as plt\n",
    "from sklearn.model_selection import train_test_split\n",
    "import pickle"
   ]
  },
  {
   "cell_type": "code",
   "execution_count": 2,
   "metadata": {},
   "outputs": [],
   "source": [
    "import re\n",
    "import utils\n",
    "import preprocess_kgptalkie as kgp"
   ]
  },
  {
   "cell_type": "code",
   "execution_count": 3,
   "metadata": {},
   "outputs": [],
   "source": [
    "from nltk.stem import WordNetLemmatizer\n",
    "from nltk.tokenize import TweetTokenizer\n",
    "from nltk.corpus import stopwords\n",
    "from nltk.tag import pos_tag\n",
    "nltk.download('averaged_perceptron_tagger')"
   ]
  },
  {
   "cell_type": "markdown",
   "metadata": {},
   "source": [
    "### Chargement, visualisation et pretraitement des donnees."
   ]
  },
  {
   "cell_type": "markdown",
   "metadata": {},
   "source": [
    "- **Chargement**"
   ]
  },
  {
   "cell_type": "code",
   "execution_count": 4,
   "metadata": {},
   "outputs": [],
   "source": [
    "df=pd.read_csv(\"train.csv\")"
   ]
  },
  {
   "cell_type": "code",
   "execution_count": 5,
   "metadata": {},
   "outputs": [
    {
     "data": {
      "text/html": [
       "<div>\n",
       "<style scoped>\n",
       "    .dataframe tbody tr th:only-of-type {\n",
       "        vertical-align: middle;\n",
       "    }\n",
       "\n",
       "    .dataframe tbody tr th {\n",
       "        vertical-align: top;\n",
       "    }\n",
       "\n",
       "    .dataframe thead th {\n",
       "        text-align: right;\n",
       "    }\n",
       "</style>\n",
       "<table border=\"1\" class=\"dataframe\">\n",
       "  <thead>\n",
       "    <tr style=\"text-align: right;\">\n",
       "      <th></th>\n",
       "      <th>Unnamed: 0</th>\n",
       "      <th>message</th>\n",
       "      <th>Polarite</th>\n",
       "    </tr>\n",
       "  </thead>\n",
       "  <tbody>\n",
       "    <tr>\n",
       "      <th>0</th>\n",
       "      <td>0</td>\n",
       "      <td>Djou la, t as pa honte avec ta bouche on dirai...</td>\n",
       "      <td>-1</td>\n",
       "    </tr>\n",
       "    <tr>\n",
       "      <th>1</th>\n",
       "      <td>1</td>\n",
       "      <td>Allah ka awou démè</td>\n",
       "      <td>1</td>\n",
       "    </tr>\n",
       "    <tr>\n",
       "      <th>2</th>\n",
       "      <td>2</td>\n",
       "      <td>Vive Assim Goïta</td>\n",
       "      <td>1</td>\n",
       "    </tr>\n",
       "    <tr>\n",
       "      <th>3</th>\n",
       "      <td>3</td>\n",
       "      <td>nin ñe kibaruya dumanye</td>\n",
       "      <td>1</td>\n",
       "    </tr>\n",
       "    <tr>\n",
       "      <th>4</th>\n",
       "      <td>4</td>\n",
       "      <td>baara gnéna</td>\n",
       "      <td>1</td>\n",
       "    </tr>\n",
       "  </tbody>\n",
       "</table>\n",
       "</div>"
      ],
      "text/plain": [
       "   Unnamed: 0                                            message  Polarite\n",
       "0           0  Djou la, t as pa honte avec ta bouche on dirai...        -1\n",
       "1           1                                 Allah ka awou démè         1\n",
       "2           2                                  Vive Assim Goïta          1\n",
       "3           3                            nin ñe kibaruya dumanye         1\n",
       "4           4                                        baara gnéna         1"
      ]
     },
     "execution_count": 5,
     "metadata": {},
     "output_type": "execute_result"
    }
   ],
   "source": [
    "df.head(5)"
   ]
  },
  {
   "cell_type": "code",
   "execution_count": 6,
   "metadata": {},
   "outputs": [
    {
     "name": "stdout",
     "output_type": "stream",
     "text": [
      "<class 'pandas.core.frame.DataFrame'>\n",
      "RangeIndex: 1645 entries, 0 to 1644\n",
      "Data columns (total 3 columns):\n",
      " #   Column      Non-Null Count  Dtype \n",
      "---  ------      --------------  ----- \n",
      " 0   Unnamed: 0  1645 non-null   int64 \n",
      " 1   message     1645 non-null   object\n",
      " 2   Polarite    1645 non-null   int64 \n",
      "dtypes: int64(2), object(1)\n",
      "memory usage: 38.7+ KB\n"
     ]
    }
   ],
   "source": [
    "df.info()"
   ]
  },
  {
   "cell_type": "markdown",
   "metadata": {},
   "source": [
    "- **Pretraitement**"
   ]
  },
  {
   "cell_type": "code",
   "execution_count": 7,
   "metadata": {},
   "outputs": [],
   "source": [
    "abbreviations = json.load(open('data/abbreviations_wordlist.json'))"
   ]
  },
  {
   "cell_type": "code",
   "execution_count": 8,
   "metadata": {},
   "outputs": [
    {
     "data": {
      "text/plain": [
       "'alla ka'"
      ]
     },
     "execution_count": 8,
     "metadata": {},
     "output_type": "execute_result"
    }
   ],
   "source": [
    "utils._cont_exp('alla ka')"
   ]
  },
  {
   "cell_type": "markdown",
   "metadata": {},
   "source": [
    "- Exemple de desuffixation "
   ]
  },
  {
   "cell_type": "code",
   "execution_count": 47,
   "metadata": {},
   "outputs": [
    {
     "data": {
      "text/plain": [
       "'je vous aime'"
      ]
     },
     "execution_count": 47,
     "metadata": {},
     "output_type": "execute_result"
    }
   ],
   "source": [
    "kgp.remove_dups_char(\"jeeeee vouuuuus aimmme\")"
   ]
  },
  {
   "cell_type": "markdown",
   "metadata": {},
   "source": [
    "- La liste des stopword en francais "
   ]
  },
  {
   "cell_type": "code",
   "execution_count": 43,
   "metadata": {},
   "outputs": [
    {
     "name": "stdout",
     "output_type": "stream",
     "text": [
      "['au', 'aux', 'avec', 'ce', 'ces', 'dans', 'de', 'des', 'du', 'elle', 'en', 'et', 'eux', 'il', 'ils', 'je', 'la', 'le', 'les', 'leur', 'lui', 'ma', 'mais', 'me', 'même', 'mes', 'moi', 'mon', 'ne', 'nos', 'notre', 'nous', 'on', 'ou', 'par', 'pas', 'pour', 'qu', 'que', 'qui', 'sa', 'se', 'ses', 'son', 'sur', 'ta', 'te', 'tes', 'toi', 'ton', 'tu', 'un', 'une', 'vos', 'votre', 'vous', 'c', 'd', 'j', 'l', 'à', 'm', 'n', 's', 't', 'y', 'été', 'étée', 'étées', 'étés', 'étant', 'étante', 'étants', 'étantes', 'suis', 'es', 'est', 'sommes', 'êtes', 'sont', 'serai', 'seras', 'sera', 'serons', 'serez', 'seront', 'serais', 'serait', 'serions', 'seriez', 'seraient', 'étais', 'était', 'étions', 'étiez', 'étaient', 'fus', 'fut', 'fûmes', 'fûtes', 'furent', 'sois', 'soit', 'soyons', 'soyez', 'soient', 'fusse', 'fusses', 'fût', 'fussions', 'fussiez', 'fussent', 'ayant', 'ayante', 'ayantes', 'ayants', 'eu', 'eue', 'eues', 'eus', 'ai', 'as', 'avons', 'avez', 'ont', 'aurai', 'auras', 'aura', 'aurons', 'aurez', 'auront', 'aurais', 'aurait', 'aurions', 'auriez', 'auraient', 'avais', 'avait', 'avions', 'aviez', 'avaient', 'eut', 'eûmes', 'eûtes', 'eurent', 'aie', 'aies', 'ait', 'ayons', 'ayez', 'aient', 'eusse', 'eusses', 'eût', 'eussions', 'eussiez', 'eussent']\n"
     ]
    }
   ],
   "source": [
    "print(stopwords.words('french'))"
   ]
  },
  {
   "cell_type": "markdown",
   "metadata": {},
   "source": [
    "- Deux pipelines de pretraitement "
   ]
  },
  {
   "cell_type": "code",
   "execution_count": 48,
   "metadata": {},
   "outputs": [],
   "source": [
    "def get_clean(x):\n",
    "    x = str(x).lower().replace('\\\\', '').replace('_', ' ')\n",
    "    x = kgp.cont_exp(x)\n",
    "    x = kgp.remove_emails(x)\n",
    "    x = kgp.remove_urls(x)\n",
    "    x = kgp.remove_html_tags(x)\n",
    "    x = kgp.remove_rt(x)\n",
    "    x = kgp.remove_accented_chars(x)\n",
    "    x = kgp.remove_special_chars(x)\n",
    "    x = re.sub(\"(.)\\\\1{2,}\", \"\\\\1\", x)\n",
    "    return x\n",
    "\n",
    "\n",
    "# Create a and run a data processing Pipeline\n",
    "def data_cleaning(text_list): \n",
    "    stopwords_rem=False\n",
    "    stopwords_en=stopwords.words('french')\n",
    "    lemmatizer=WordNetLemmatizer()\n",
    "    tokenizer=TweetTokenizer()\n",
    "    reconstructed_list=[]\n",
    "    for each_text in text_list: \n",
    "        lemmatized_tokens=[]\n",
    "        tokens=tokenizer.tokenize(each_text.lower())\n",
    "        pos_tags=pos_tag(tokens.split())\n",
    "        for each_token, tag in pos_tags: \n",
    "            if tag.startswith('NN'): \n",
    "                pos='n'\n",
    "            elif tag.startswith('VB'): \n",
    "                pos='v'\n",
    "            else: \n",
    "                pos='a'\n",
    "            lemmatized_token=lemmatizer.lemmatize(each_token, pos)\n",
    "            if stopwords_rem: # False \n",
    "                if lemmatized_token not in stopwords_en: \n",
    "                    lemmatized_tokens.append(lemmatized_token)\n",
    "            else: \n",
    "                lemmatized_tokens.append(lemmatized_token)\n",
    "        reconstructed_list.append(' '.join(lemmatized_tokens))\n",
    "    return reconstructed_list"
   ]
  },
  {
   "cell_type": "code",
   "execution_count": 49,
   "metadata": {},
   "outputs": [
    {
     "name": "stderr",
     "output_type": "stream",
     "text": [
      "[nltk_data] Downloading package wordnet to\n",
      "[nltk_data]     C:\\Users\\COULIBALY\\AppData\\Roaming\\nltk_data...\n",
      "[nltk_data]   Unzipping corpora\\wordnet.zip.\n",
      "[nltk_data] Error with downloaded zip file\n"
     ]
    },
    {
     "data": {
      "text/plain": [
       "False"
      ]
     },
     "execution_count": 49,
     "metadata": {},
     "output_type": "execute_result"
    }
   ],
   "source": [
    "nltk.download('wordnet')"
   ]
  },
  {
   "cell_type": "code",
   "execution_count": 19,
   "metadata": {},
   "outputs": [],
   "source": [
    "dReviews=df['message'].apply(lambda x: get_clean(x))"
   ]
  },
  {
   "cell_type": "code",
   "execution_count": 20,
   "metadata": {},
   "outputs": [],
   "source": [
    "X=dReviews\n",
    "y=df['Polarite']"
   ]
  },
  {
   "cell_type": "markdown",
   "metadata": {},
   "source": [
    "- **Visualisation des donnees**"
   ]
  },
  {
   "cell_type": "markdown",
   "metadata": {},
   "source": [
    "Now we will visualize the ratio of Postive and Negative sentiment.We can see that the ratio is closly 1:1.Which is considered as a good balance"
   ]
  },
  {
   "cell_type": "code",
   "execution_count": 33,
   "metadata": {},
   "outputs": [
    {
     "data": {
      "image/png": "[encoded data removed]",
      "text/plain": [
       "<Figure size 432x288 with 1 Axes>"
      ]
     },
     "metadata": {
      "needs_background": "light"
     },
     "output_type": "display_data"
    }
   ],
   "source": [
    "sns.countplot(df['Polarite']);"
   ]
  },
  {
   "cell_type": "markdown",
   "metadata": {},
   "source": [
    "### Division des donnees en donnees d'entrainement(80%) et de test(20%)"
   ]
  },
  {
   "cell_type": "code",
   "execution_count": 50,
   "metadata": {},
   "outputs": [],
   "source": [
    "X_train, X_test, y_train, y_test= train_test_split(X,y, test_size=0.2, random_state=0)"
   ]
  },
  {
   "cell_type": "markdown",
   "metadata": {},
   "source": [
    "### Apprentissage automatique "
   ]
  },
  {
   "cell_type": "code",
   "execution_count": 72,
   "metadata": {},
   "outputs": [],
   "source": [
    "from sklearn.pipeline import Pipeline\n",
    "from sklearn.feature_extraction.text import TfidfVectorizer\n",
    "from sklearn.metrics import classification_report, confusion_matrix\n",
    "\n",
    "from sklearn.svm import LinearSVC\n",
    "from sklearn.linear_model import SGDClassifier, LogisticRegression\n",
    "from sklearn.ensemble import RandomForestClassifier, GradientBoostingClassifier\n",
    "from sklearn.naive_bayes import MultinomialNB,GaussianNB, BernoulliNB\n",
    "\n",
    "from sklearn.preprocessing import FunctionTransformer\n",
    "import sys\n",
    "import os\n",
    "import argparse\n",
    "from sklearn.pipeline import Pipeline\n",
    "from scipy.sparse import csr_matrix\n",
    "from sklearn.feature_extraction.text import CountVectorizer\n",
    "import six\n",
    "from abc import ABCMeta\n",
    "from scipy import sparse\n",
    "from scipy.sparse import issparse\n",
    "from sklearn.base import BaseEstimator, ClassifierMixin\n",
    "from sklearn.utils import check_X_y, check_array\n",
    "from sklearn.utils.extmath import safe_sparse_dot\n",
    "from sklearn.preprocessing import normalize, binarize, LabelBinarizer"
   ]
  },
  {
   "cell_type": "code",
   "execution_count": 54,
   "metadata": {},
   "outputs": [],
   "source": [
    "# Pipeline d'extraction \n",
    "estimators=[('vectorizer', TfidfVectorizer(max_features=100, ngram_range=(1, 2)))]\n",
    "preprocessing_pipeline=Pipeline(estimators)"
   ]
  },
  {
   "cell_type": "code",
   "execution_count": 55,
   "metadata": {},
   "outputs": [],
   "source": [
    "# Entrainer et transformer la pipeline d'extraction \n",
    "X_train_transformed=preprocessing_pipeline.fit_transform(X_train)"
   ]
  },
  {
   "cell_type": "markdown",
   "metadata": {},
   "source": [
    "- **SVC**\n",
    "\n",
    "Similaire à SVC avec le paramètre kernel='linear', mais implémenté en termes de liblinear plutôt que de libsvm, il a donc plus de flexibilité dans le choix des fonctions de pénalité et de perte et devrait mieux s'adapter à un grand nombre d'échantillons.\n",
    "\n",
    "Cette classe prend en charge les entrées denses et éparses et la prise en charge multiclasse est gérée selon un schéma un contre le reste.\n",
    "Pour en savoir plus : https://www.kaggle.com/xingewang/the-math-behind-linear-svc-classifier"
   ]
  },
  {
   "cell_type": "code",
   "execution_count": 56,
   "metadata": {},
   "outputs": [],
   "source": [
    "# Create a Naive Bayes model and fit training data\n",
    "model0=LinearSVC()\n",
    "model0.fit(X_train_transformed, y_train)\n",
    "X_test_transformed=preprocessing_pipeline.transform(X_test)"
   ]
  },
  {
   "cell_type": "code",
   "execution_count": 57,
   "metadata": {},
   "outputs": [
    {
     "name": "stdout",
     "output_type": "stream",
     "text": [
      "Train Score: 0.7712765957446809\n",
      "Test Score: 0.6838905775075987\n"
     ]
    }
   ],
   "source": [
    "# Evaluer le model\n",
    "print(f'Train Score: {model0.score(X_train_transformed, y_train)}')\n",
    "print(f'Test Score: {model0.score(X_test_transformed, y_test)}')"
   ]
  },
  {
   "cell_type": "code",
   "execution_count": 58,
   "metadata": {},
   "outputs": [],
   "source": [
    "y_pred=model0.predict(X_test_transformed)"
   ]
  },
  {
   "cell_type": "code",
   "execution_count": 98,
   "metadata": {},
   "outputs": [
    {
     "name": "stdout",
     "output_type": "stream",
     "text": [
      "              precision    recall  f1-score   support\n",
      "\n",
      "          -1       0.57      0.39      0.47        94\n",
      "           0       0.75      0.12      0.21        24\n",
      "           1       0.71      0.88      0.79       211\n",
      "\n",
      "    accuracy                           0.68       329\n",
      "   macro avg       0.68      0.47      0.49       329\n",
      "weighted avg       0.67      0.68      0.65       329\n",
      "\n"
     ]
    },
    {
     "data": {
      "text/plain": [
       "<matplotlib.axes._subplots.AxesSubplot at 0x3399606780>"
      ]
     },
     "execution_count": 98,
     "metadata": {},
     "output_type": "execute_result"
    },
    {
     "data": {
      "image/png": "[encoded data removed]",
      "text/plain": [
       "<Figure size 720x504 with 2 Axes>"
      ]
     },
     "metadata": {},
     "output_type": "display_data"
    }
   ],
   "source": [
    "print(classification_report(y_test,y_pred))\n",
    "data = confusion_matrix(y_test, y_pred)\n",
    "df_cm = pd.DataFrame(data, columns=np.unique(y_test), index = np.unique(y_test))\n",
    "df_cm.index.name = 'Polarite reelle'\n",
    "df_cm.columns.name = 'Polarite predite'\n",
    "plt.figure(figsize = (10,7))\n",
    "sns.set(font_scale=1.4)#for label size\n",
    "sns.heatmap(df_cm, cmap=\"Blues\", annot=True,annot_kws={\"size\": 16})"
   ]
  },
  {
   "cell_type": "markdown",
   "metadata": {},
   "source": [
    "Observation\n",
    "\n",
    "    Fonctionne assez bien pour détecter les vrais positifs et vrais négatifs.\n",
    "    Ce modèle n'a pas surajusté ou sous-ajusté.\n",
    "    Ce modèle fonctionne nettement mieux avec Word2Vec.\n",
    "\n",
    "Pour implementer les autres modeles, il suffit juste de debrancher le SVC et de brancher un nouveau classifieur "
   ]
  },
  {
   "cell_type": "code",
   "execution_count": 68,
   "metadata": {},
   "outputs": [],
   "source": [
    "model1 = BernoulliNB(alpha=0.001)\n",
    "model1.fit( X_train_transformed, y_train )\n",
    "\n",
    "model2 = SGDClassifier(loss='modified_huber', random_state=0, shuffle=True)\n",
    "model2.fit( X_train_transformed, y_train )\n",
    "\n",
    "model3 = RandomForestClassifier()\n",
    "model3.fit( X_train_transformed, y_train )\n",
    "\n",
    "model4 = GradientBoostingClassifier()\n",
    "model4.fit( X_train_transformed, y_train )\n",
    "\n",
    "model5 = LogisticRegression()\n",
    "model5.fit( X_train_transformed, y_train )\n",
    "\n",
    "\n",
    "pred_1 = model1.predict( X_test_transformed.toarray() )\n",
    "pred_2 = model2.predict( X_test_transformed.toarray() )\n",
    "pred_3 = model3.predict( X_test_transformed.toarray() )\n",
    "pred_4 = model4.predict( X_test_transformed.toarray() )\n",
    "pred_5 = model5.predict( X_test_transformed.toarray() )"
   ]
  },
  {
   "cell_type": "markdown",
   "metadata": {},
   "source": [
    "- **NB(Naïf Bayes)**\n",
    "\n",
    "En statistique, les classificateurs naïfs de Bayes sont une famille de « classificateurs probabilistes » simples basés sur l'application du théorème de Bayes avec de fortes hypothèses d'indépendance (naïves) entre les caractéristiques (voir le classificateur de Bayes). Ils font partie des modèles de réseaux bayésiens les plus simples, mais couplés à l'estimation de la densité du noyau, ils peuvent atteindre des niveaux de précision plus élevés.\n"
   ]
  },
  {
   "cell_type": "code",
   "execution_count": 65,
   "metadata": {},
   "outputs": [
    {
     "name": "stdout",
     "output_type": "stream",
     "text": [
      "              precision    recall  f1-score   support\n",
      "\n",
      "          -1       0.58      0.38      0.46        94\n",
      "           0       0.33      0.12      0.18        24\n",
      "           1       0.71      0.86      0.78       211\n",
      "\n",
      "    accuracy                           0.67       329\n",
      "   macro avg       0.54      0.46      0.47       329\n",
      "weighted avg       0.64      0.67      0.64       329\n",
      "\n"
     ]
    }
   ],
   "source": [
    "print(classification_report(y_test,pred_1))"
   ]
  },
  {
   "cell_type": "markdown",
   "metadata": {},
   "source": [
    "Observation\n",
    "\n",
    "    Ce modèle n'est pas surajusté ou sous-ajusté.\n",
    "    Performances médiocres par rapport à d'autres modèles, mais peut gagner en précision si elle est associée à une estimation de la densité du noyau."
   ]
  },
  {
   "cell_type": "markdown",
   "metadata": {},
   "source": [
    "\n",
    "- **Régression logistique**\n",
    "\n",
    "La régression logistique est un modèle statistique qui, dans sa forme de base, utilise une fonction logistique pour modéliser une variable dépendante binaire, bien qu'il existe de nombreuses extensions plus complexes. Dans l'analyse de régression, la régression logistique (ou régression logit) consiste à estimer les paramètres d'un modèle logistique (une forme de régression binaire). La regression logistique modelise la loi de Yi.\n",
    "Pour en savoir plus : https://machinelearningmastery.com/logistic-regression-for-machine-learning/\n"
   ]
  },
  {
   "cell_type": "code",
   "execution_count": 97,
   "metadata": {},
   "outputs": [
    {
     "name": "stdout",
     "output_type": "stream",
     "text": [
      "              precision    recall  f1-score   support\n",
      "\n",
      "          -1       0.62      0.38      0.47        94\n",
      "           0       1.00      0.04      0.08        24\n",
      "           1       0.71      0.91      0.79       211\n",
      "\n",
      "    accuracy                           0.69       329\n",
      "   macro avg       0.78      0.44      0.45       329\n",
      "weighted avg       0.70      0.69      0.65       329\n",
      "\n"
     ]
    },
    {
     "data": {
      "text/plain": [
       "<matplotlib.axes._subplots.AxesSubplot at 0x3398509b70>"
      ]
     },
     "execution_count": 97,
     "metadata": {},
     "output_type": "execute_result"
    },
    {
     "data": {
      "image/png": "[encoded data removed]",
      "text/plain": [
       "<Figure size 720x504 with 2 Axes>"
      ]
     },
     "metadata": {},
     "output_type": "display_data"
    }
   ],
   "source": [
    "print(classification_report(y_test,pred_5))\n",
    "data = confusion_matrix(y_test, pred_5)\n",
    "df_cm = pd.DataFrame(data, columns=np.unique(y_test), index = np.unique(y_test))\n",
    "df_cm.index.name = 'Polarite reelle'\n",
    "df_cm.columns.name = 'Polarite predite'\n",
    "plt.figure(figsize = (10,7))\n",
    "sns.set(font_scale=1.4)#for label size\n",
    "sns.heatmap(df_cm, cmap=\"Blues\", annot=True,annot_kws={\"size\": 16})"
   ]
  },
  {
   "cell_type": "markdown",
   "metadata": {},
   "source": [
    "Observation\n",
    "\n",
    "    Fonctionne assez bien pour détecter les vrais positifs et vrais négatifs.\n",
    "    Ce modèle n'a pas surajusté ou sous-ajusté.\n",
    "    Certainement un vrai concurrent de SVC\n",
    "    Peut être considéré comme l'un des meilleurs choix en matière de classification binaire à l'aide de Word2Vec."
   ]
  },
  {
   "cell_type": "markdown",
   "metadata": {},
   "source": [
    "- **SGD**"
   ]
  },
  {
   "cell_type": "code",
   "execution_count": null,
   "metadata": {},
   "outputs": [],
   "source": [
    "print(classification_report(y_test,pred_2))"
   ]
  },
  {
   "cell_type": "markdown",
   "metadata": {},
   "source": [
    "- **RandomForest**\n",
    "\n",
    "Une forêt aléatoire est un méta-estimateur qui ajuste un certain nombre de classificateurs d'arbres de décision sur divers sous-échantillons de l'ensemble de données et utilise la moyenne pour améliorer la précision prédictive et contrôler le surajustement. La taille du sous-échantillon est contrôlée avec le paramètre max_samples si bootstrap=True (par défaut), sinon l'ensemble de données entier est utilisé pour construire chaque arbre."
   ]
  },
  {
   "cell_type": "code",
   "execution_count": null,
   "metadata": {},
   "outputs": [],
   "source": [
    "print(classification_report(y_test,pred_3))"
   ]
  },
  {
   "cell_type": "markdown",
   "metadata": {},
   "source": [
    "- **GradientBoosting**"
   ]
  },
  {
   "cell_type": "code",
   "execution_count": null,
   "metadata": {},
   "outputs": [],
   "source": [
    "print(classification_report(y_test,pred_4))"
   ]
  },
  {
   "cell_type": "markdown",
   "metadata": {},
   "source": [
    "- **NBSVM: methode hybride**"
   ]
  },
  {
   "cell_type": "code",
   "execution_count": 83,
   "metadata": {},
   "outputs": [],
   "source": [
    "class NBSVM(six.with_metaclass(ABCMeta, BaseEstimator, ClassifierMixin)):\n",
    "\n",
    "    def __init__(self, alpha=1.0, C=1.0, max_iter=10000):\n",
    "        self.alpha = alpha\n",
    "        self.max_iter = max_iter\n",
    "        self.C = C\n",
    "        self.svm_ = [] # fuggly\n",
    "\n",
    "    def fit(self, X, y):\n",
    "        X, y = check_X_y(X, y, 'csr')\n",
    "        _, n_features = X.shape\n",
    "\n",
    "        labelbin = LabelBinarizer()\n",
    "        Y = labelbin.fit_transform(y)\n",
    "        self.classes_ = labelbin.classes_\n",
    "        if Y.shape[1] == 1:\n",
    "            Y = np.concatenate((1 - Y, Y), axis=1)\n",
    "\n",
    "        # LabelBinarizer().fit_transform() returns arrays with dtype=np.int64.\n",
    "        # so we don't have to cast X to floating point\n",
    "        Y = Y.astype(np.float64)\n",
    "\n",
    "        # Count raw events from data\n",
    "        n_effective_classes = Y.shape[1]\n",
    "        self.class_count_ = np.zeros(n_effective_classes, dtype=np.float64)\n",
    "        self.ratios_ = np.full((n_effective_classes, n_features), self.alpha,\n",
    "                                 dtype=np.float64)\n",
    "        self._compute_ratios(X, Y)\n",
    "\n",
    "        # flugglyness\n",
    "        for i in range(n_effective_classes):\n",
    "            X_i = X.multiply(self.ratios_[i])\n",
    "            svm = LinearSVC(C=self.C, max_iter=self.max_iter)\n",
    "            Y_i = Y[:,i]\n",
    "            svm.fit(X_i, Y_i)\n",
    "            self.svm_.append(svm) \n",
    "\n",
    "        return self\n",
    "\n",
    "    def predict(self, X):\n",
    "        n_effective_classes = self.class_count_.shape[0]\n",
    "        n_examples = X.shape[0]\n",
    "\n",
    "        D = np.zeros((n_effective_classes, n_examples))\n",
    "\n",
    "        for i in range(n_effective_classes):\n",
    "            X_i = X.multiply(self.ratios_[i])\n",
    "            D[i] = self.svm_[i].decision_function(X_i)\n",
    "        \n",
    "        return self.classes_[np.argmax(D, axis=0)]\n",
    "        \n",
    "    def _compute_ratios(self, X, Y):\n",
    "        \"\"\"Count feature occurrences and compute ratios.\"\"\"\n",
    "        if np.any((X.data if issparse(X) else X) < 0):\n",
    "            raise ValueError(\"Input X must be non-negative\")\n",
    "\n",
    "        self.ratios_ += safe_sparse_dot(Y.T, X)  # ratio + feature_occurrance_c\n",
    "        normalize(self.ratios_, norm='l1', axis=1, copy=False)\n",
    "        row_calc = lambda r: np.log(np.divide(r, (1 - r)))\n",
    "        self.ratios_ = np.apply_along_axis(row_calc, axis=1, arr=self.ratios_)\n",
    "        check_array(self.ratios_)\n",
    "        self.ratios_ = sparse.csr_matrix(self.ratios_)\n",
    "\n",
    "        #p_c /= np.linalg.norm(p_c, ord=1)\n",
    "        #ratios[c] = np.log(p_c / (1 - p_c))\n",
    "\n",
    "\n",
    "def f1_class(pred, truth, class_val):\n",
    "    n = len(truth)\n",
    "\n",
    "    truth_class = 0\n",
    "    pred_class = 0\n",
    "    tp = 0\n",
    "\n",
    "    for ii in range(0, n):\n",
    "        if truth[ii] == class_val:\n",
    "            truth_class += 1\n",
    "            if truth[ii] == pred[ii]:\n",
    "                tp += 1\n",
    "                pred_class += 1\n",
    "                continue;\n",
    "        if pred[ii] == class_val:\n",
    "            pred_class += 1\n",
    "\n",
    "    precision = tp / float(pred_class)\n",
    "    recall = tp / float(truth_class)\n",
    "\n",
    "    return (2.0 * precision * recall) / (precision + recall)\n",
    "\n",
    "\n",
    "def semeval_senti_f1(pred, truth, pos=2, neg=0): \n",
    "\n",
    "    f1_pos = f1_class(pred, truth, pos)\n",
    "    f1_neg = f1_class(pred, truth, neg)\n",
    "\n",
    "    return (f1_pos + f1_neg) / 2.0;\n",
    "\n",
    "\n",
    "def main(train_file, test_file, ngram=(1, 3)):\n",
    "    print('loading...')\n",
    "    train = pd.read_csv(train_file, delimiter='\\t', encoding='utf-8', header=0,\n",
    "                        names=['text', 'label'])\n",
    "\n",
    "    # to shuffle:\n",
    "    #train.iloc[np.random.permutation(len(df))]\n",
    "\n",
    "    test = pd.read_csv(test_file, delimiter='\\t', encoding='utf-8', header=0,\n",
    "                        names=['text', 'label'])\n",
    "\n",
    "    print('vectorizing...')\n",
    "    vect = CountVectorizer()\n",
    "    classifier = NBSVM()\n",
    "\n",
    "    # create pipeline\n",
    "    clf = Pipeline([('vect', vect), ('nbsvm', classifier)])\n",
    "    params = {\n",
    "        'vect__token_pattern': r\"\\S+\",\n",
    "        'vect__ngram_range': ngram, \n",
    "        'vect__binary': True\n",
    "    }\n",
    "    clf.set_params(**params)\n",
    "\n",
    "    #X_train = vect.fit_transform(train['text'])\n",
    "    #X_test = vect.transform(test['text'])\n",
    "\n",
    "    print('fitting...')\n",
    "    clf.fit(train['text'], train['label'])\n",
    "\n",
    "    print('classifying...')\n",
    "    pred = clf.predict(test['text'])\n",
    "   \n",
    "    print('testing...')\n",
    "    acc = accuracy_score(test['label'], pred)\n",
    "    f1 = semeval_senti_f1(pred, test['label'])\n",
    "    print('NBSVM: acc=%f, f1=%f' % (acc, f1))"
   ]
  },
  {
   "cell_type": "code",
   "execution_count": 84,
   "metadata": {},
   "outputs": [
    {
     "name": "stdout",
     "output_type": "stream",
     "text": [
      "              precision    recall  f1-score   support\n",
      "\n",
      "          -1       0.62      0.38      0.47        94\n",
      "           0       1.00      0.04      0.08        24\n",
      "           1       0.71      0.91      0.79       211\n",
      "\n",
      "    accuracy                           0.69       329\n",
      "   macro avg       0.78      0.44      0.45       329\n",
      "weighted avg       0.70      0.69      0.65       329\n",
      "\n"
     ]
    }
   ],
   "source": [
    "model6 = NBSVM(C=0.01)\n",
    "model6.fit(X_train_transformed, y_train)\n",
    "pred_6 = model5.predict(X_test_transformed)\n",
    "print(classification_report(y_test,pred_6))"
   ]
  },
  {
   "cell_type": "code",
   "execution_count": 86,
   "metadata": {},
   "outputs": [
    {
     "data": {
      "text/plain": [
       "array([-1], dtype=int64)"
      ]
     },
     "execution_count": 86,
     "metadata": {},
     "output_type": "execute_result"
    }
   ],
   "source": [
    "x='maudi la '\n",
    "x= get_clean(x)\n",
    "vect=preprocessing_pipeline.transform([x])\n",
    "model0.predict(vect)"
   ]
  },
  {
   "cell_type": "code",
   "execution_count": null,
   "metadata": {},
   "outputs": [],
   "source": [
    "def prediction(model,x):\n",
    "    x= get_clean(x)\n",
    "    vect=preprocessing_pipeline.transform([x])\n",
    "    if model.predict(vect)==1:\n",
    "        print(\"C'est une phrase positive\")\n",
    "    elif model.predict(vect)==0:\n",
    "        print(\"C'est une phrase neutre\")\n",
    "    else:\n",
    "        print(\"C'est une phrase negative\")"
   ]
  },
  {
   "cell_type": "code",
   "execution_count": null,
   "metadata": {},
   "outputs": [],
   "source": [
    "# Sauvegarder mon premier modele sur le disque de l'ordinateur \n",
    "filename= 'modele1.sav'\n",
    "pickle.dump(model0, open(filename,'wb'))\n",
    "\n",
    "#Charger le modele a partir du disque un autre jour jour \n",
    "modele_forme=pickle.load(open(filename,'rb'))\n",
    "resultat= modele_forme.score(X_test_transformed, y_test)\n",
    "print(resultat)"
   ]
  },
  {
   "cell_type": "code",
   "execution_count": null,
   "metadata": {},
   "outputs": [],
   "source": [
    "x=\"ok\"\n",
    "prediction(modele_forme,x)"
   ]
  },
  {
   "cell_type": "markdown",
   "metadata": {},
   "source": [
    "- **Grid Search CV**"
   ]
  },
  {
   "cell_type": "code",
   "execution_count": 119,
   "metadata": {},
   "outputs": [],
   "source": [
    "from sklearn.model_selection import GridSearchCV\n",
    "parameters = {'tfidf__use_idf': (True, False)}"
   ]
  },
  {
   "cell_type": "code",
   "execution_count": 120,
   "metadata": {},
   "outputs": [],
   "source": [
    "gs_clf = GridSearchCV(preprocessing_pipeline, parameters, cv=5, n_jobs=1)"
   ]
  },
  {
   "cell_type": "code",
   "execution_count": 122,
   "metadata": {},
   "outputs": [
    {
     "ename": "TypeError",
     "evalue": "If no scoring is specified, the estimator passed should have a 'score' method. The estimator Pipeline(steps=[('vectorizer',\n                 TfidfVectorizer(max_features=100, ngram_range=(1, 2)))]) does not.",
     "output_type": "error",
     "traceback": [
      "\u001b[1;31m---------------------------------------------------------------------------\u001b[0m",
      "\u001b[1;31mTypeError\u001b[0m                                 Traceback (most recent call last)",
      "\u001b[1;32m<ipython-input-122-b40fa46e9a1f>\u001b[0m in \u001b[0;36m<module>\u001b[1;34m\u001b[0m\n\u001b[1;32m----> 1\u001b[1;33m \u001b[0mgs_clf\u001b[0m \u001b[1;33m=\u001b[0m \u001b[0mgs_clf\u001b[0m\u001b[1;33m.\u001b[0m\u001b[0mfit\u001b[0m\u001b[1;33m(\u001b[0m\u001b[0mX_train\u001b[0m\u001b[1;33m,\u001b[0m\u001b[0my_train\u001b[0m\u001b[1;33m)\u001b[0m\u001b[1;33m\u001b[0m\u001b[1;33m\u001b[0m\u001b[0m\n\u001b[0m",
      "\u001b[1;32m~\\Anaconda3.5\\lib\\site-packages\\sklearn\\utils\\validation.py\u001b[0m in \u001b[0;36minner_f\u001b[1;34m(*args, **kwargs)\u001b[0m\n\u001b[0;32m     71\u001b[0m                           FutureWarning)\n\u001b[0;32m     72\u001b[0m         \u001b[0mkwargs\u001b[0m\u001b[1;33m.\u001b[0m\u001b[0mupdate\u001b[0m\u001b[1;33m(\u001b[0m\u001b[1;33m{\u001b[0m\u001b[0mk\u001b[0m\u001b[1;33m:\u001b[0m \u001b[0marg\u001b[0m \u001b[1;32mfor\u001b[0m \u001b[0mk\u001b[0m\u001b[1;33m,\u001b[0m \u001b[0marg\u001b[0m \u001b[1;32min\u001b[0m \u001b[0mzip\u001b[0m\u001b[1;33m(\u001b[0m\u001b[0msig\u001b[0m\u001b[1;33m.\u001b[0m\u001b[0mparameters\u001b[0m\u001b[1;33m,\u001b[0m \u001b[0margs\u001b[0m\u001b[1;33m)\u001b[0m\u001b[1;33m}\u001b[0m\u001b[1;33m)\u001b[0m\u001b[1;33m\u001b[0m\u001b[1;33m\u001b[0m\u001b[0m\n\u001b[1;32m---> 73\u001b[1;33m         \u001b[1;32mreturn\u001b[0m \u001b[0mf\u001b[0m\u001b[1;33m(\u001b[0m\u001b[1;33m**\u001b[0m\u001b[0mkwargs\u001b[0m\u001b[1;33m)\u001b[0m\u001b[1;33m\u001b[0m\u001b[1;33m\u001b[0m\u001b[0m\n\u001b[0m\u001b[0;32m     74\u001b[0m     \u001b[1;32mreturn\u001b[0m \u001b[0minner_f\u001b[0m\u001b[1;33m\u001b[0m\u001b[1;33m\u001b[0m\u001b[0m\n\u001b[0;32m     75\u001b[0m \u001b[1;33m\u001b[0m\u001b[0m\n",
      "\u001b[1;32m~\\Anaconda3.5\\lib\\site-packages\\sklearn\\model_selection\\_search.py\u001b[0m in \u001b[0;36mfit\u001b[1;34m(self, X, y, groups, **fit_params)\u001b[0m\n\u001b[0;32m    653\u001b[0m \u001b[1;33m\u001b[0m\u001b[0m\n\u001b[0;32m    654\u001b[0m         scorers, self.multimetric_ = _check_multimetric_scoring(\n\u001b[1;32m--> 655\u001b[1;33m             self.estimator, scoring=self.scoring)\n\u001b[0m\u001b[0;32m    656\u001b[0m \u001b[1;33m\u001b[0m\u001b[0m\n\u001b[0;32m    657\u001b[0m         \u001b[1;32mif\u001b[0m \u001b[0mself\u001b[0m\u001b[1;33m.\u001b[0m\u001b[0mmultimetric_\u001b[0m\u001b[1;33m:\u001b[0m\u001b[1;33m\u001b[0m\u001b[1;33m\u001b[0m\u001b[0m\n",
      "\u001b[1;32m~\\Anaconda3.5\\lib\\site-packages\\sklearn\\metrics\\_scorer.py\u001b[0m in \u001b[0;36m_check_multimetric_scoring\u001b[1;34m(estimator, scoring)\u001b[0m\n\u001b[0;32m    473\u001b[0m     if callable(scoring) or scoring is None or isinstance(scoring,\n\u001b[0;32m    474\u001b[0m                                                           str):\n\u001b[1;32m--> 475\u001b[1;33m         \u001b[0mscorers\u001b[0m \u001b[1;33m=\u001b[0m \u001b[1;33m{\u001b[0m\u001b[1;34m\"score\"\u001b[0m\u001b[1;33m:\u001b[0m \u001b[0mcheck_scoring\u001b[0m\u001b[1;33m(\u001b[0m\u001b[0mestimator\u001b[0m\u001b[1;33m,\u001b[0m \u001b[0mscoring\u001b[0m\u001b[1;33m=\u001b[0m\u001b[0mscoring\u001b[0m\u001b[1;33m)\u001b[0m\u001b[1;33m}\u001b[0m\u001b[1;33m\u001b[0m\u001b[1;33m\u001b[0m\u001b[0m\n\u001b[0m\u001b[0;32m    476\u001b[0m         \u001b[1;32mreturn\u001b[0m \u001b[0mscorers\u001b[0m\u001b[1;33m,\u001b[0m \u001b[1;32mFalse\u001b[0m\u001b[1;33m\u001b[0m\u001b[1;33m\u001b[0m\u001b[0m\n\u001b[0;32m    477\u001b[0m     \u001b[1;32melse\u001b[0m\u001b[1;33m:\u001b[0m\u001b[1;33m\u001b[0m\u001b[1;33m\u001b[0m\u001b[0m\n",
      "\u001b[1;32m~\\Anaconda3.5\\lib\\site-packages\\sklearn\\utils\\validation.py\u001b[0m in \u001b[0;36minner_f\u001b[1;34m(*args, **kwargs)\u001b[0m\n\u001b[0;32m     71\u001b[0m                           FutureWarning)\n\u001b[0;32m     72\u001b[0m         \u001b[0mkwargs\u001b[0m\u001b[1;33m.\u001b[0m\u001b[0mupdate\u001b[0m\u001b[1;33m(\u001b[0m\u001b[1;33m{\u001b[0m\u001b[0mk\u001b[0m\u001b[1;33m:\u001b[0m \u001b[0marg\u001b[0m \u001b[1;32mfor\u001b[0m \u001b[0mk\u001b[0m\u001b[1;33m,\u001b[0m \u001b[0marg\u001b[0m \u001b[1;32min\u001b[0m \u001b[0mzip\u001b[0m\u001b[1;33m(\u001b[0m\u001b[0msig\u001b[0m\u001b[1;33m.\u001b[0m\u001b[0mparameters\u001b[0m\u001b[1;33m,\u001b[0m \u001b[0margs\u001b[0m\u001b[1;33m)\u001b[0m\u001b[1;33m}\u001b[0m\u001b[1;33m)\u001b[0m\u001b[1;33m\u001b[0m\u001b[1;33m\u001b[0m\u001b[0m\n\u001b[1;32m---> 73\u001b[1;33m         \u001b[1;32mreturn\u001b[0m \u001b[0mf\u001b[0m\u001b[1;33m(\u001b[0m\u001b[1;33m**\u001b[0m\u001b[0mkwargs\u001b[0m\u001b[1;33m)\u001b[0m\u001b[1;33m\u001b[0m\u001b[1;33m\u001b[0m\u001b[0m\n\u001b[0m\u001b[0;32m     74\u001b[0m     \u001b[1;32mreturn\u001b[0m \u001b[0minner_f\u001b[0m\u001b[1;33m\u001b[0m\u001b[1;33m\u001b[0m\u001b[0m\n\u001b[0;32m     75\u001b[0m \u001b[1;33m\u001b[0m\u001b[0m\n",
      "\u001b[1;32m~\\Anaconda3.5\\lib\\site-packages\\sklearn\\metrics\\_scorer.py\u001b[0m in \u001b[0;36mcheck_scoring\u001b[1;34m(estimator, scoring, allow_none)\u001b[0m\n\u001b[0;32m    426\u001b[0m                 \u001b[1;34m\"If no scoring is specified, the estimator passed should \"\u001b[0m\u001b[1;33m\u001b[0m\u001b[1;33m\u001b[0m\u001b[0m\n\u001b[0;32m    427\u001b[0m                 \u001b[1;34m\"have a 'score' method. The estimator %r does not.\"\u001b[0m\u001b[1;33m\u001b[0m\u001b[1;33m\u001b[0m\u001b[0m\n\u001b[1;32m--> 428\u001b[1;33m                 % estimator)\n\u001b[0m\u001b[0;32m    429\u001b[0m     \u001b[1;32melif\u001b[0m \u001b[0misinstance\u001b[0m\u001b[1;33m(\u001b[0m\u001b[0mscoring\u001b[0m\u001b[1;33m,\u001b[0m \u001b[0mIterable\u001b[0m\u001b[1;33m)\u001b[0m\u001b[1;33m:\u001b[0m\u001b[1;33m\u001b[0m\u001b[1;33m\u001b[0m\u001b[0m\n\u001b[0;32m    430\u001b[0m         raise ValueError(\"For evaluating multiple scores, use \"\n",
      "\u001b[1;31mTypeError\u001b[0m: If no scoring is specified, the estimator passed should have a 'score' method. The estimator Pipeline(steps=[('vectorizer',\n                 TfidfVectorizer(max_features=100, ngram_range=(1, 2)))]) does not."
     ]
    }
   ],
   "source": [
    " gs_clf = gs_clf.fit(X_train,y_train)"
   ]
  },
  {
   "cell_type": "markdown",
   "metadata": {},
   "source": [
    "### L'apprentissage en profondeur"
   ]
  },
  {
   "cell_type": "markdown",
   "metadata": {},
   "source": [
    "- **Importation de bibliotheques**"
   ]
  },
  {
   "cell_type": "code",
   "execution_count": 123,
   "metadata": {},
   "outputs": [],
   "source": [
    "import tensorflow as tf\n",
    "from tensorflow import keras\n",
    "from keras.preprocessing.text import Tokenizer\n",
    "from keras.preprocessing.sequence import pad_sequences\n",
    "from tensorflow.keras.utils import to_categorical\n",
    "\n",
    "from keras.models import Sequential\n",
    "from keras import layers\n",
    "\n",
    "from re import sub\n",
    "import multiprocessing\n",
    "import os\n",
    "from time import time \n",
    "\n",
    "\n",
    "from keras.layers import LSTM,Dense,Dropout,Activation,Embedding,Flatten,Bidirectional,MaxPooling2D, GlobalMaxPooling1D, Conv1D, MaxPooling1D\n",
    "import keras.optimizers\n",
    "from keras import regularizers\n",
    "from keras.preprocessing.sequence import pad_sequences\n",
    "from keras.utils.np_utils import to_categorical\n",
    "import h5py\n",
    "import csv\n",
    "from sklearn.model_selection import StratifiedKFold\n",
    "\n",
    "from keras.preprocessing import sequence\n",
    "from keras.utils import np_utils\n",
    "from keras.layers.core import Lambda\n",
    "from keras.layers.embeddings import Embedding\n",
    "from keras.layers.recurrent import LSTM, SimpleRNN, GRU\n",
    "from keras.preprocessing.text import Tokenizer\n",
    "from collections import defaultdict\n",
    "from keras.layers.convolutional import Convolution1D\n",
    "from keras import backend as K"
   ]
  },
  {
   "cell_type": "code",
   "execution_count": 176,
   "metadata": {},
   "outputs": [],
   "source": [
    "embedding_dim = 300\n",
    "max_length = 40\n",
    "trunc_type='post'\n",
    "oov_tok = \"<OOV>\""
   ]
  },
  {
   "cell_type": "markdown",
   "metadata": {},
   "source": [
    "**Petit pretraitement habituel: Transformer les donnees en token puis en entiers**"
   ]
  },
  {
   "cell_type": "code",
   "execution_count": 163,
   "metadata": {},
   "outputs": [
    {
     "name": "stdout",
     "output_type": "stream",
     "text": [
      "Vocab Size: 2719\n"
     ]
    }
   ],
   "source": [
    "# Entrainer et transformer les donnees \n",
    "#Definir le tokeniseur\n",
    "tokenizer=Tokenizer()\n",
    "#Chaque phrase sera tokenisee avec la fonction fit_on_texts\n",
    "tokenizer.fit_on_texts(X_train)\n",
    "#Chaque mot aura ainsi un index et on va compter le nombre total de mot avec la fonction len\n",
    "vocab_size=len(tokenizer.word_index)+1\n",
    "print(f'Vocab Size: {vocab_size}')\n",
    "\n",
    "#Afin de fournir des phrase de longueur egale a notre reseau de neurones \n",
    "#On utilise le padding\n",
    "X_train=pad_sequences(tokenizer.texts_to_sequences(X_train), maxlen=40)\n",
    "X_test=pad_sequences(tokenizer.texts_to_sequences(X_test), maxlen=40)\n",
    "y_train=to_categorical(y_train)\n",
    "y_test=to_categorical(y_test)"
   ]
  },
  {
   "cell_type": "markdown",
   "metadata": {},
   "source": [
    "- **LSTM monocouche**"
   ]
  },
  {
   "cell_type": "code",
   "execution_count": 164,
   "metadata": {},
   "outputs": [
    {
     "name": "stdout",
     "output_type": "stream",
     "text": [
      "Model: \"sequential_2\"\n",
      "_________________________________________________________________\n",
      "Layer (type)                 Output Shape              Param #   \n",
      "=================================================================\n",
      "embedding_2 (Embedding)      (None, 40, 100)           271900    \n",
      "_________________________________________________________________\n",
      "lstm_2 (LSTM)                (None, 128)               117248    \n",
      "_________________________________________________________________\n",
      "dense_2 (Dense)              (None, 2)                 258       \n",
      "=================================================================\n",
      "Total params: 389,406\n",
      "Trainable params: 389,406\n",
      "Non-trainable params: 0\n",
      "_________________________________________________________________\n",
      "None\n",
      "Epoch 1/20\n",
      "6/6 [==============================] - 15s 963ms/step - loss: 0.6368 - accuracy: 0.8715 - val_loss: 0.3287 - val_accuracy: 0.9271\n",
      "Epoch 2/20\n",
      "6/6 [==============================] - 3s 502ms/step - loss: 0.3296 - accuracy: 0.9130 - val_loss: 0.2953 - val_accuracy: 0.9271\n",
      "Epoch 3/20\n",
      "6/6 [==============================] - 2s 356ms/step - loss: 0.2891 - accuracy: 0.9209 - val_loss: 0.2838 - val_accuracy: 0.9271\n",
      "Epoch 4/20\n",
      "6/6 [==============================] - 2s 288ms/step - loss: 0.2790 - accuracy: 0.9256 - val_loss: 0.2624 - val_accuracy: 0.9271\n",
      "Epoch 5/20\n",
      "6/6 [==============================] - 2s 322ms/step - loss: 0.2885 - accuracy: 0.9111 - val_loss: 0.2603 - val_accuracy: 0.9271\n",
      "Epoch 6/20\n",
      "6/6 [==============================] - 2s 304ms/step - loss: 0.2776 - accuracy: 0.9157 - val_loss: 0.2592 - val_accuracy: 0.9271\n",
      "Epoch 7/20\n",
      "6/6 [==============================] - 2s 315ms/step - loss: 0.2696 - accuracy: 0.9153 - val_loss: 0.2546 - val_accuracy: 0.9271\n",
      "Epoch 8/20\n",
      "6/6 [==============================] - 2s 306ms/step - loss: 0.2447 - accuracy: 0.9212 - val_loss: 0.2526 - val_accuracy: 0.9271\n",
      "Epoch 9/20\n",
      "6/6 [==============================] - 2s 315ms/step - loss: 0.2417 - accuracy: 0.9160 - val_loss: 0.2459 - val_accuracy: 0.9271\n",
      "Epoch 10/20\n",
      "6/6 [==============================] - 2s 303ms/step - loss: 0.2073 - accuracy: 0.9256 - val_loss: 0.2405 - val_accuracy: 0.9271\n",
      "Epoch 11/20\n",
      "6/6 [==============================] - 2s 300ms/step - loss: 0.1863 - accuracy: 0.9248 - val_loss: 0.2315 - val_accuracy: 0.9271\n",
      "Epoch 12/20\n",
      "6/6 [==============================] - 2s 306ms/step - loss: 0.1573 - accuracy: 0.9363 - val_loss: 0.2260 - val_accuracy: 0.9271\n",
      "Epoch 13/20\n",
      "6/6 [==============================] - 2s 306ms/step - loss: 0.1192 - accuracy: 0.9460 - val_loss: 0.2326 - val_accuracy: 0.9240\n",
      "Epoch 14/20\n",
      "6/6 [==============================] - 2s 307ms/step - loss: 0.0926 - accuracy: 0.9638 - val_loss: 0.2710 - val_accuracy: 0.9240\n",
      "Epoch 15/20\n",
      "6/6 [==============================] - 2s 294ms/step - loss: 0.0817 - accuracy: 0.9641 - val_loss: 0.2669 - val_accuracy: 0.8997\n",
      "Epoch 16/20\n",
      "6/6 [==============================] - 2s 291ms/step - loss: 0.0766 - accuracy: 0.9755 - val_loss: 0.2670 - val_accuracy: 0.9331\n",
      "Epoch 17/20\n",
      "6/6 [==============================] - 2s 291ms/step - loss: 0.0705 - accuracy: 0.9692 - val_loss: 0.2832 - val_accuracy: 0.9331\n",
      "Epoch 18/20\n",
      "6/6 [==============================] - 2s 286ms/step - loss: 0.0549 - accuracy: 0.9693 - val_loss: 0.2836 - val_accuracy: 0.9058\n",
      "Epoch 19/20\n",
      "6/6 [==============================] - 2s 288ms/step - loss: 0.0449 - accuracy: 0.9795 - val_loss: 0.2983 - val_accuracy: 0.8997\n",
      "Epoch 20/20\n",
      "6/6 [==============================] - 2s 291ms/step - loss: 0.0450 - accuracy: 0.9806 - val_loss: 0.3239 - val_accuracy: 0.9271\n",
      "11/11 [==============================] - 0s 20ms/step - loss: 0.3239 - accuracy: 0.9271\n",
      "Test Loss: 0.3238714039325714\n",
      "Test Accuracy: 0.9270516633987427\n"
     ]
    }
   ],
   "source": [
    "# Create an LSTM model with an Embedding layer and fit training data\n",
    "with tf.device('/gpu:0'):\n",
    "    model=Sequential()\n",
    "    model.add(layers.Embedding(input_dim=vocab_size,\\\n",
    "                               output_dim=100,\\\n",
    "                               input_length=max_length))\n",
    "    model.add(layers.LSTM(128))\n",
    "    model.add(layers.Dense(2,activation='softmax'))\n",
    "    print(model.summary())\n",
    "    model.compile(optimizer='adam',\\\n",
    "                  loss='categorical_crossentropy',\\\n",
    "                  metrics=['accuracy'])\n",
    "    history=model.fit(X_train,\\\n",
    "              y_train,\\\n",
    "              batch_size=256,\\\n",
    "              epochs=20,\\\n",
    "              validation_data=(X_test,y_test))\n",
    "\n",
    "    test_loss, test_acc = model.evaluate(X_test,y_test)"
   ]
  },
  {
   "cell_type": "code",
   "execution_count": 167,
   "metadata": {},
   "outputs": [
    {
     "name": "stdout",
     "output_type": "stream",
     "text": [
      "\n",
      "\n",
      "Test Loss: 0.3238714039325714\n",
      "Test Accuracy: 0.9270516633987427\n"
     ]
    }
   ],
   "source": [
    "    print(\"\\n\")\n",
    "    print('Test Loss:', test_loss)\n",
    "    print('Test Accuracy:', test_acc)"
   ]
  },
  {
   "cell_type": "markdown",
   "metadata": {},
   "source": [
    "- Visualisons graphiquement l'evolution de la perte pendant l'apprentissage "
   ]
  },
  {
   "cell_type": "code",
   "execution_count": 175,
   "metadata": {},
   "outputs": [
    {
     "data": {
      "text/plain": [
       "<matplotlib.axes._subplots.AxesSubplot at 0xeccff25898>"
      ]
     },
     "execution_count": 175,
     "metadata": {},
     "output_type": "execute_result"
    },
    {
     "data": {
      "image/png": "[encoded data removed]",
      "text/plain": [
       "<Figure size 432x288 with 1 Axes>"
      ]
     },
     "metadata": {
      "needs_background": "light"
     },
     "output_type": "display_data"
    }
   ],
   "source": [
    "model_loss=pd.DataFrame(history.history[\"loss\"])\n",
    "model_loss.plot()"
   ]
  },
  {
   "cell_type": "markdown",
   "metadata": {},
   "source": [
    "- **LSTM a deux couches**"
   ]
  },
  {
   "cell_type": "code",
   "execution_count": 90,
   "metadata": {},
   "outputs": [
    {
     "name": "stdout",
     "output_type": "stream",
     "text": [
      "Model: \"sequential_21\"\n",
      "_________________________________________________________________\n",
      "Layer (type)                 Output Shape              Param #   \n",
      "=================================================================\n",
      "embedding_19 (Embedding)     (None, 40, 100)           122900    \n",
      "_________________________________________________________________\n",
      "lstm_30 (LSTM)               (None, 40, 128)           117248    \n",
      "_________________________________________________________________\n",
      "lstm_31 (LSTM)               (None, 128)               131584    \n",
      "_________________________________________________________________\n",
      "dense_43 (Dense)             (None, 2)                 258       \n",
      "=================================================================\n",
      "Total params: 371,990\n",
      "Trainable params: 371,990\n",
      "Non-trainable params: 0\n",
      "_________________________________________________________________\n",
      "None\n",
      "Epoch 1/20\n",
      "1/1 [==============================] - 23s 23s/step - loss: 0.6934 - accuracy: 0.5000 - val_loss: 0.6670 - val_accuracy: 1.0000\n",
      "Epoch 2/20\n",
      "1/1 [==============================] - 1s 548ms/step - loss: 0.6701 - accuracy: 1.0000 - val_loss: 0.6371 - val_accuracy: 1.0000\n",
      "Epoch 3/20\n",
      "1/1 [==============================] - 0s 468ms/step - loss: 0.6392 - accuracy: 1.0000 - val_loss: 0.5904 - val_accuracy: 1.0000\n",
      "Epoch 4/20\n",
      "1/1 [==============================] - 0s 465ms/step - loss: 0.5910 - accuracy: 1.0000 - val_loss: 0.5155 - val_accuracy: 1.0000\n",
      "Epoch 5/20\n",
      "1/1 [==============================] - 0s 307ms/step - loss: 0.5137 - accuracy: 1.0000 - val_loss: 0.3964 - val_accuracy: 1.0000\n",
      "Epoch 6/20\n",
      "1/1 [==============================] - 0s 273ms/step - loss: 0.3915 - accuracy: 1.0000 - val_loss: 0.2221 - val_accuracy: 1.0000\n",
      "Epoch 7/20\n",
      "1/1 [==============================] - 0s 281ms/step - loss: 0.2159 - accuracy: 1.0000 - val_loss: 0.0514 - val_accuracy: 1.0000\n",
      "Epoch 8/20\n",
      "1/1 [==============================] - 0s 266ms/step - loss: 0.0495 - accuracy: 1.0000 - val_loss: 0.0023 - val_accuracy: 1.0000\n",
      "Epoch 9/20\n",
      "1/1 [==============================] - 0s 239ms/step - loss: 0.0023 - accuracy: 1.0000 - val_loss: 1.2927e-04 - val_accuracy: 1.0000\n",
      "Epoch 10/20\n",
      "1/1 [==============================] - 0s 219ms/step - loss: 1.3172e-04 - accuracy: 1.0000 - val_loss: 2.6047e-05 - val_accuracy: 1.0000\n",
      "Epoch 11/20\n",
      "1/1 [==============================] - 0s 266ms/step - loss: 2.6390e-05 - accuracy: 1.0000 - val_loss: 1.0461e-05 - val_accuracy: 1.0000\n",
      "Epoch 12/20\n",
      "1/1 [==============================] - 0s 288ms/step - loss: 1.0490e-05 - accuracy: 1.0000 - val_loss: 5.4836e-06 - val_accuracy: 1.0000\n",
      "Epoch 13/20\n",
      "1/1 [==============================] - 0s 203ms/step - loss: 5.4911e-06 - accuracy: 1.0000 - val_loss: 3.2186e-06 - val_accuracy: 1.0000\n",
      "Epoch 14/20\n",
      "1/1 [==============================] - 0s 188ms/step - loss: 3.2186e-06 - accuracy: 1.0000 - val_loss: 2.0266e-06 - val_accuracy: 1.0000\n",
      "Epoch 15/20\n",
      "1/1 [==============================] - 0s 219ms/step - loss: 2.0266e-06 - accuracy: 1.0000 - val_loss: 1.4305e-06 - val_accuracy: 1.0000\n",
      "Epoch 16/20\n",
      "1/1 [==============================] - 0s 251ms/step - loss: 1.4305e-06 - accuracy: 1.0000 - val_loss: 9.5367e-07 - val_accuracy: 1.0000\n",
      "Epoch 17/20\n",
      "1/1 [==============================] - 0s 203ms/step - loss: 9.5367e-07 - accuracy: 1.0000 - val_loss: 7.1526e-07 - val_accuracy: 1.0000\n",
      "Epoch 18/20\n",
      "1/1 [==============================] - 0s 203ms/step - loss: 7.1526e-07 - accuracy: 1.0000 - val_loss: 5.9605e-07 - val_accuracy: 1.0000\n",
      "Epoch 19/20\n",
      "1/1 [==============================] - 0s 156ms/step - loss: 5.7369e-07 - accuracy: 1.0000 - val_loss: 4.7684e-07 - val_accuracy: 1.0000\n",
      "Epoch 20/20\n",
      "1/1 [==============================] - 0s 172ms/step - loss: 4.3958e-07 - accuracy: 1.0000 - val_loss: 3.5763e-07 - val_accuracy: 1.0000\n"
     ]
    },
    {
     "data": {
      "text/plain": [
       "<keras.callbacks.History at 0x343e5e4a8>"
      ]
     },
     "execution_count": 90,
     "metadata": {},
     "output_type": "execute_result"
    }
   ],
   "source": [
    "# Create an LSTM model with an Embedding layer and fit training data\n",
    "model=Sequential()\n",
    "model.add(layers.Embedding(input_dim=vocab_size,\\\n",
    "                           output_dim=100,\\\n",
    "                           input_length=40))\n",
    "model.add(layers.LSTM(128, return_sequences=True))\n",
    "model.add(layers.LSTM(128))\n",
    "model.add(layers.Dense(2,activation='softmax'))\n",
    "print(model.summary())\n",
    "model.compile(optimizer='adam',\\\n",
    "              loss='categorical_crossentropy',\\\n",
    "              metrics=['accuracy'])\n",
    "\n",
    "model.fit(X_train,\\\n",
    "          y_train,\\\n",
    "          batch_size=256,\\\n",
    "          epochs=20,\\\n",
    "          validation_data=(X_test,y_test))\n",
    "\n",
    "test_loss, test_acc = model.evaluate(X_test,y_test)\n",
    "print('Test Loss:', test_loss)\n",
    "print('Test Accuracy:', test_acc)"
   ]
  },
  {
   "cell_type": "markdown",
   "metadata": {},
   "source": [
    "- **CNN-LSTM**"
   ]
  },
  {
   "cell_type": "code",
   "execution_count": 36,
   "metadata": {},
   "outputs": [
    {
     "name": "stdout",
     "output_type": "stream",
     "text": [
      "training_sentences shape: (16,)\n",
      "testing_sentences shape: (4,)\n",
      "train_labels shape: (16, 2)\n",
      "test_labels shape: (4, 2)\n"
     ]
    }
   ],
   "source": [
    "training_sentences=np.array(X_train)\n",
    "testing_sentences=np.array(X_test)\n",
    "train_labels=to_categorical(y_train)\n",
    "test_labels=to_categorical(y_test)\n",
    "print(\"training_sentences shape: \"+str(training_sentences.shape))\n",
    "print(\"testing_sentences shape: \"+str(testing_sentences.shape))\n",
    "print(\"train_labels shape: \"+str(train_labels.shape))\n",
    "print(\"test_labels shape: \"+str(test_labels.shape))"
   ]
  },
  {
   "cell_type": "code",
   "execution_count": 42,
   "metadata": {},
   "outputs": [
    {
     "name": "stdout",
     "output_type": "stream",
     "text": [
      "1229\n",
      "Word index length:1229\n"
     ]
    }
   ],
   "source": [
    "tokenizer = Tokenizer(num_words = vocab_size, oov_token=oov_tok)\n",
    "tokenizer.fit_on_texts(training_sentences)\n",
    "word_index = tokenizer.word_index\n",
    "print(len(word_index))\n",
    "print(\"Word index length:\"+str(len(tokenizer.word_index)))\n",
    "sequences = tokenizer.texts_to_sequences(training_sentences)\n",
    "padded = pad_sequences(sequences,maxlen=max_length, truncating=trunc_type)\n",
    "\n",
    "\n",
    "test_sequences = tokenizer.texts_to_sequences(testing_sentences)\n",
    "testing_padded = pad_sequences(test_sequences,maxlen=max_length)"
   ]
  },
  {
   "cell_type": "code",
   "execution_count": 43,
   "metadata": {},
   "outputs": [
    {
     "name": "stdout",
     "output_type": "stream",
     "text": [
      "Sentence :--> \n",
      "\n",
      "this game has thethishonor of being the first game that i have stopped playing right in the middle of and felt like smashing into bits and then burning congratulations first and last tomb raider i will ever play i assure youplot just typing that word made me laugh there is not one neither is there character development we finally have a girl heroine who can take care of herselfwho is not a beepingmarysuebut unfortunately she dresses like a slut and her breast are huge they had to attract the sexist boy gamers you see anyway all she does is go in tomb after tomb shooting things as she goes along why she does this i have no idea i had subtitles on and the tv as loud as i could and i still did not understand a damn thing the developmentor lack there of for her her two friends and thevillainswere laughable there also will be levels that you have to go through that donot give you any hint on what you have to do next and you literally will be in most of the boring as hell tombs for hours trying to figure out what the hell you are sup1ed to be doing there is one courseout of two in particular with her on a motorbikebelieve me it is not at all funthat you will be on for atlease an hour with no save point in sight that means you get hit by the other motorist and guys in vans shooting at you or you hit a tree you start the hour long trek overboss stupid fck you know lets makes the levels very long have basically no save points have no story no character development give no variety in game play have most of the music on the longest levels earbleedingand give no hints whatsoever to the player so they can stay even longer in a place instead of getting to the nonexistent plotstupid fck one those sound like bang up ideasstupid fck two i concur who needs character development plot or unboring gameplaytodd i am sorry sirbut these ideas seem like they will extremely pss the player offboss stupid fck shut up todd youre firedgameplay all she does is shoot of course she can flip while shooting jump while shooting or kick while again shootingbut flipping jumping and kicking does not erase the fact that all she is ultimately doing is shooting boring music the intro music is extremely beautiful i love listening to it the in game music goes from tolerable to wanting to cut your ears offvisualsconsidering this game was made in 2006 i was expecting the visuals to blow me awaywell i was blownbut definitely not in a good waybottomline this game is a plotless no character development mess with a barely dressed unmarysuishthankfullyyoung women in the lead that goes through boring tombs for some boring reasonwhat that might be i could not tell youwith unimaginative shooting gameplay stay far away from this bsit is gets two stars for having a women who is not a damsel in distressno matter how scantily clad she might be and the beautiful into music\n",
      "\n",
      "Sentence Tokenized and Converted into Sequence :--> \n",
      "\n",
      "[13, 82, 39, 457, 7, 108, 2, 67, 82, 11, 9, 18, 458, 177, 168, 10, 2, 459, 7, 5, 178, 53, 460, 109, 461, 5, 243, 244, 462, 67, 5, 131, 179, 463, 9, 42, 245, 246, 9, 464, 465, 54, 466, 11, 180, 50, 83, 467, 31, 4, 12, 40, 468, 4, 31, 70, 110, 132, 247, 18, 3, 248, 469, 33, 28, 133, 249, 7, 470, 4, 12, 3, 471, 472, 24, 473, 53, 3, 474, 5, 52, 475, 25, 250, 32, 181, 6, 476, 2, 477, 134, 478, 19, 81, 251, 27, 24, 30, 4, 111, 10, 179, 123, 179, 84, 252, 20, 24, 182, 479, 135, 24, 30, 13, 9, 18, 49, 253, 9, 181, 480, 16, 5, 2, 481, 20, 482, 20, 9, 85, 5, 9, 66, 86, 12, 254, 3, 483, 159, 2, 484, 238, 31, 7, 17, 52, 52, 71, 136, 5, 485, 486, 31, 57, 42, 29, 183, 11, 19, 18, 6, 111, 105, 11, 487, 58, 19, 107, 488, 16, 60, 19, 18, 6, 72, 489, 5, 19, 490, 42, 29, 10, 103, 7, 2, 87, 20, 184, 255, 17, 491, 492, 6, 256, 88, 60, 2, 184, 19, 25, 137, 6, 29, 257, 31, 4, 40, 493, 7, 71, 10, 494, 22, 52, 16, 3, 495, 83, 8, 4, 12, 37, 27, 496, 19, 42, 29, 16, 17, 497, 45, 185, 22, 49, 258, 125, 10, 498, 11, 499, 19, 112, 170, 61, 2, 186, 500, 5, 501, 10, 502, 84, 37, 19, 89, 19, 170, 3, 503, 19, 166, 2, 185, 90, 504, 505, 187, 138, 19, 259, 506, 124, 2, 183, 34, 90, 18, 507, 49, 258, 165, 18, 49, 41, 49, 70, 110, 58, 49, 508, 10, 82, 246, 18, 103, 7, 2, 91, 16, 2, 509, 183, 510, 58, 49, 511, 512, 6, 2, 260, 26, 32, 28, 171, 62, 513, 10, 3, 514, 515, 7, 261, 6, 2, 516, 517, 138, 40, 139, 518, 53, 519, 43, 520, 138, 71, 9, 521, 33, 522, 70, 110, 92, 89, 523, 524, 9, 188, 262, 525, 140, 526, 128, 53, 32, 42, 263, 527, 2, 260, 528, 187, 138, 529, 43, 530, 264, 531, 27, 24, 30, 4, 532, 7, 533, 24, 28, 534, 102, 84, 265, 102, 84, 89, 535, 102, 266, 536, 537, 538, 5, 539, 30, 12, 540, 2, 267, 11, 27, 24, 4, 268, 257, 4, 84, 87, 91, 2, 541, 91, 4, 263, 269, 9, 93, 542, 6, 8, 2, 10, 82, 91, 182, 76, 543, 6, 544, 6, 545, 113, 546, 547, 13, 82, 15, 50, 10, 548, 9, 15, 549, 2, 550, 6, 551, 83, 552, 9, 15, 553, 270, 12, 10, 3, 48, 554, 13, 82, 4, 3, 555, 49, 70, 110, 556, 22, 3, 557, 558, 559, 189, 10, 2, 271, 11, 182, 105, 87, 255, 17, 35, 87, 560, 11, 141, 29, 9, 85, 12, 561, 562, 563, 84, 564, 171, 272, 190, 76, 13, 565, 4, 273, 71, 191, 17, 274, 3, 189, 33, 4, 12, 3, 566, 10, 567, 192, 59, 568, 569, 24, 141, 29, 5, 2, 269, 109, 91]\n",
      "\n",
      "After Padding the Sequence with padding length 100 :--> \n",
      "\n",
      "[ 13  82  39 457   7 108   2  67  82  11   9  18 458 177 168  10   2 459\n",
      "   7   5 178  53 460 109 461   5 243 244 462  67   5 131 179 463   9  42\n",
      " 245 246   9 464 465  54 466  11 180  50  83 467  31   4  12  40 468   4\n",
      "  31  70 110 132 247  18   3 248 469  33  28 133 249   7 470   4  12   3\n",
      " 471 472  24 473  53   3 474   5  52 475  25 250  32 181   6 476   2 477\n",
      " 134 478  19  81 251  27  24  30   4 111]\n"
     ]
    }
   ],
   "source": [
    "print(\"Sentence :--> \\n\")\n",
    "print(training_sentences[2]+\"\\n\")\n",
    "print(\"Sentence Tokenized and Converted into Sequence :--> \\n\")\n",
    "print(str(sequences[2])+\"\\n\")\n",
    "print(\"After Padding the Sequence with padding length 100 :--> \\n\")\n",
    "print(padded[2])"
   ]
  },
  {
   "cell_type": "code",
   "execution_count": 44,
   "metadata": {},
   "outputs": [
    {
     "name": "stdout",
     "output_type": "stream",
     "text": [
      "Padded shape(training): (16, 100)\n",
      "Padded shape(testing): (4, 100)\n"
     ]
    }
   ],
   "source": [
    "print(\"Padded shape(training): \"+str(padded.shape))\n",
    "print(\"Padded shape(testing): \"+str(testing_padded.shape))"
   ]
  },
  {
   "cell_type": "code",
   "execution_count": 69,
   "metadata": {},
   "outputs": [
    {
     "name": "stdout",
     "output_type": "stream",
     "text": [
      "Model: \"sequential_8\"\n",
      "_________________________________________________________________\n",
      "Layer (type)                 Output Shape              Param #   \n",
      "=================================================================\n",
      "embedding_8 (Embedding)      (None, 100, 300)          368700    \n",
      "_________________________________________________________________\n",
      "conv1d_7 (Conv1D)            (None, 98, 200)           180200    \n",
      "_________________________________________________________________\n",
      "bidirectional_15 (Bidirectio (None, 98, 128)           135680    \n",
      "_________________________________________________________________\n",
      "dropout_7 (Dropout)          (None, 98, 128)           0         \n",
      "_________________________________________________________________\n",
      "bidirectional_16 (Bidirectio (None, 128)               98816     \n",
      "_________________________________________________________________\n",
      "dense_29 (Dense)             (None, 50)                6450      \n",
      "_________________________________________________________________\n",
      "dense_30 (Dense)             (None, 50)                2550      \n",
      "_________________________________________________________________\n",
      "flatten_7 (Flatten)          (None, 50)                0         \n",
      "_________________________________________________________________\n",
      "dense_31 (Dense)             (None, 100)               5100      \n",
      "_________________________________________________________________\n",
      "dense_32 (Dense)             (None, 2)                 202       \n",
      "=================================================================\n",
      "Total params: 797,698\n",
      "Trainable params: 797,698\n",
      "Non-trainable params: 0\n",
      "_________________________________________________________________\n"
     ]
    }
   ],
   "source": [
    "with tf.device('/gpu:0'):\n",
    "    model= Sequential()\n",
    "    model.add(Embedding(vocab_size, embedding_dim, input_length=max_length))\n",
    "    model.add(Conv1D(200, kernel_size=3, activation = \"relu\"))\n",
    "    model.add(Bidirectional(LSTM(64, return_sequences=True)))\n",
    "    model.add(Dropout(0.5))\n",
    "    model.add(Bidirectional(LSTM(64)))\n",
    "    model.add(Dense(50, activation='relu'))\n",
    "    model.add(Dense(50, activation='relu'))\n",
    "    model.add(Flatten())\n",
    "    #l2 regularizer\n",
    "    model.add(Dense(100,kernel_regularizer=regularizers.l2(0.01),activation=\"relu\"))\n",
    "    model.add(Dense(2, activation='softmax'))\n",
    "    model.summary()\n",
    "    model.compile(optimizer='adam',\\\n",
    "                  loss='categorical_crossentropy',\\\n",
    "                  metrics=['accuracy'])\n",
    "    model.fit(X_train,\\\n",
    "          y_train,\\\n",
    "          batch_size=256,\\\n",
    "          epochs=20,\\\n",
    "          validation_data=(X_test,y_test))\n",
    "    test_loss, test_acc = model.evaluate(X_test,y_test)\n",
    "    print('Test Loss:', test_loss)\n",
    "    print('Test Accuracy:', test_acc)"
   ]
  },
  {
   "cell_type": "markdown",
   "metadata": {},
   "source": [
    "- **CNN multicouche**"
   ]
  },
  {
   "cell_type": "code",
   "execution_count": 64,
   "metadata": {},
   "outputs": [
    {
     "name": "stdout",
     "output_type": "stream",
     "text": [
      "Model: \"sequential_7\"\n",
      "_________________________________________________________________\n",
      "Layer (type)                 Output Shape              Param #   \n",
      "=================================================================\n",
      "embedding_6 (Embedding)      (None, 100, 300)          368700    \n",
      "_________________________________________________________________\n",
      "conv1d_6 (Conv1D)            (None, 96, 128)           192128    \n",
      "_________________________________________________________________\n",
      "global_max_pooling1d_1 (Glob (None, 128)               0         \n",
      "_________________________________________________________________\n",
      "dense_9 (Dense)              (None, 2)                 258       \n",
      "=================================================================\n",
      "Total params: 561,086\n",
      "Trainable params: 561,086\n",
      "Non-trainable params: 0\n",
      "_________________________________________________________________\n",
      "Epoch 1/20\n",
      "WARNING:tensorflow:Model was constructed with shape (None, 100) for input KerasTensor(type_spec=TensorSpec(shape=(None, 100), dtype=tf.float32, name='embedding_6_input'), name='embedding_6_input', description=\"created by layer 'embedding_6_input'\"), but it was called on an input with incompatible shape (None, 40).\n",
      "WARNING:tensorflow:Model was constructed with shape (None, 100) for input KerasTensor(type_spec=TensorSpec(shape=(None, 100), dtype=tf.float32, name='embedding_6_input'), name='embedding_6_input', description=\"created by layer 'embedding_6_input'\"), but it was called on an input with incompatible shape (None, 40).\n",
      "1/1 [==============================] - ETA: 0s - loss: 0.9620 - accuracy: 0.0000e+00WARNING:tensorflow:Model was constructed with shape (None, 100) for input KerasTensor(type_spec=TensorSpec(shape=(None, 100), dtype=tf.float32, name='embedding_6_input'), name='embedding_6_input', description=\"created by layer 'embedding_6_input'\"), but it was called on an input with incompatible shape (None, 40).\n",
      "1/1 [==============================] - 46s 46s/step - loss: 0.9620 - accuracy: 0.0000e+00 - val_loss: 0.8963 - val_accuracy: 0.0000e+00\n",
      "Epoch 2/20\n",
      "1/1 [==============================] - 0s 172ms/step - loss: 0.7847 - accuracy: 0.0000e+00 - val_loss: 0.8306 - val_accuracy: 0.0000e+00\n",
      "Epoch 3/20\n",
      "1/1 [==============================] - 0s 179ms/step - loss: 0.6538 - accuracy: 1.0000 - val_loss: 0.7669 - val_accuracy: 0.0000e+00\n",
      "Epoch 4/20\n",
      "1/1 [==============================] - 0s 207ms/step - loss: 0.5491 - accuracy: 1.0000 - val_loss: 0.7063 - val_accuracy: 0.0000e+00\n",
      "Epoch 5/20\n",
      "1/1 [==============================] - 0s 180ms/step - loss: 0.4622 - accuracy: 1.0000 - val_loss: 0.6485 - val_accuracy: 1.0000\n",
      "Epoch 6/20\n",
      "1/1 [==============================] - ETA: 0s - loss: 0.3885 - accuracy: 1.00 - 0s 169ms/step - loss: 0.3885 - accuracy: 1.0000 - val_loss: 0.5937 - val_accuracy: 1.0000\n",
      "Epoch 7/20\n",
      "1/1 [==============================] - 0s 174ms/step - loss: 0.3255 - accuracy: 1.0000 - val_loss: 0.5413 - val_accuracy: 1.0000\n",
      "Epoch 8/20\n",
      "1/1 [==============================] - ETA: 0s - loss: 0.2716 - accuracy: 1.00 - 0s 164ms/step - loss: 0.2716 - accuracy: 1.0000 - val_loss: 0.4915 - val_accuracy: 1.0000\n",
      "Epoch 9/20\n",
      "1/1 [==============================] - 0s 176ms/step - loss: 0.2261 - accuracy: 1.0000 - val_loss: 0.4447 - val_accuracy: 1.0000\n",
      "Epoch 10/20\n",
      "1/1 [==============================] - 0s 211ms/step - loss: 0.1879 - accuracy: 1.0000 - val_loss: 0.4009 - val_accuracy: 1.0000\n",
      "Epoch 11/20\n",
      "1/1 [==============================] - 0s 166ms/step - loss: 0.1561 - accuracy: 1.0000 - val_loss: 0.3604 - val_accuracy: 1.0000\n",
      "Epoch 12/20\n",
      "1/1 [==============================] - 0s 193ms/step - loss: 0.1299 - accuracy: 1.0000 - val_loss: 0.3232 - val_accuracy: 1.0000\n",
      "Epoch 13/20\n",
      "1/1 [==============================] - 0s 161ms/step - loss: 0.1086 - accuracy: 1.0000 - val_loss: 0.2895 - val_accuracy: 1.0000\n",
      "Epoch 14/20\n",
      "1/1 [==============================] - 0s 189ms/step - loss: 0.0912 - accuracy: 1.0000 - val_loss: 0.2591 - val_accuracy: 1.0000\n",
      "Epoch 15/20\n",
      "1/1 [==============================] - 0s 163ms/step - loss: 0.0768 - accuracy: 1.0000 - val_loss: 0.2319 - val_accuracy: 1.0000\n",
      "Epoch 16/20\n",
      "1/1 [==============================] - 0s 148ms/step - loss: 0.0651 - accuracy: 1.0000 - val_loss: 0.2078 - val_accuracy: 1.0000\n",
      "Epoch 17/20\n",
      "1/1 [==============================] - 0s 148ms/step - loss: 0.0553 - accuracy: 1.0000 - val_loss: 0.1864 - val_accuracy: 1.0000\n",
      "Epoch 18/20\n",
      "1/1 [==============================] - 0s 164ms/step - loss: 0.0472 - accuracy: 1.0000 - val_loss: 0.1674 - val_accuracy: 1.0000\n",
      "Epoch 19/20\n",
      "1/1 [==============================] - 0s 131ms/step - loss: 0.0405 - accuracy: 1.0000 - val_loss: 0.1508 - val_accuracy: 1.0000\n",
      "Epoch 20/20\n",
      "1/1 [==============================] - 0s 123ms/step - loss: 0.0348 - accuracy: 1.0000 - val_loss: 0.1361 - val_accuracy: 1.0000\n",
      "1/1 [==============================] - 0s 63ms/step - loss: 0.1361 - accuracy: 1.0000\n",
      "Test Loss: 0.13610093295574188\n",
      "Test Accuracy: 1.0\n"
     ]
    }
   ],
   "source": [
    "with tf.device('/gpu:0'):\n",
    "    model= Sequential()\n",
    "    model.add(Embedding(vocab_size, embedding_dim, input_length=max_length))\n",
    "    model.add(Conv1D(128, 5, activation='relu'))\n",
    "    model.add(GlobalMaxPooling1D())\n",
    "    model.add(Dense(2, activation='sigmoid'))\n",
    "    model.summary()\n",
    "    model.compile(optimizer='adam',\\\n",
    "                  loss='categorical_crossentropy',\\\n",
    "                  metrics=['accuracy'])\n",
    "    model.fit(X_train,\\\n",
    "          y_train,\\\n",
    "          batch_size=256,\\\n",
    "          epochs=20,\\\n",
    "          validation_data=(X_test,y_test))\n",
    "    test_loss, test_acc = model.evaluate(X_test,y_test)\n",
    "    print('Test Loss:', test_loss)\n",
    "    print('Test Accuracy:', test_acc)"
   ]
  },
  {
   "cell_type": "markdown",
   "metadata": {},
   "source": [
    "- **BLSTM monocouche**"
   ]
  },
  {
   "cell_type": "code",
   "execution_count": 65,
   "metadata": {},
   "outputs": [
    {
     "name": "stdout",
     "output_type": "stream",
     "text": [
      "Epoch 1/20\n",
      "1/1 [==============================] - 36s 36s/step - loss: 0.6901 - accuracy: 0.5625 - val_loss: 0.6688 - val_accuracy: 1.0000\n",
      "Epoch 2/20\n",
      "1/1 [==============================] - 0s 215ms/step - loss: 0.6596 - accuracy: 1.0000 - val_loss: 0.6407 - val_accuracy: 1.0000\n",
      "Epoch 3/20\n",
      "1/1 [==============================] - 0s 187ms/step - loss: 0.6263 - accuracy: 1.0000 - val_loss: 0.6057 - val_accuracy: 1.0000\n",
      "Epoch 4/20\n",
      "1/1 [==============================] - 0s 228ms/step - loss: 0.5862 - accuracy: 1.0000 - val_loss: 0.5594 - val_accuracy: 1.0000\n",
      "Epoch 5/20\n",
      "1/1 [==============================] - 0s 176ms/step - loss: 0.5349 - accuracy: 1.0000 - val_loss: 0.4954 - val_accuracy: 1.0000\n",
      "Epoch 6/20\n",
      "1/1 [==============================] - 0s 167ms/step - loss: 0.4667 - accuracy: 1.0000 - val_loss: 0.4041 - val_accuracy: 1.0000\n",
      "Epoch 7/20\n",
      "1/1 [==============================] - 0s 180ms/step - loss: 0.3740 - accuracy: 1.0000 - val_loss: 0.2749 - val_accuracy: 1.0000\n",
      "Epoch 8/20\n",
      "1/1 [==============================] - 0s 161ms/step - loss: 0.2498 - accuracy: 1.0000 - val_loss: 0.1171 - val_accuracy: 1.0000\n",
      "Epoch 9/20\n",
      "1/1 [==============================] - 0s 183ms/step - loss: 0.1063 - accuracy: 1.0000 - val_loss: 0.0140 - val_accuracy: 1.0000\n",
      "Epoch 10/20\n",
      "1/1 [==============================] - 0s 154ms/step - loss: 0.0137 - accuracy: 1.0000 - val_loss: 2.9512e-04 - val_accuracy: 1.0000\n",
      "Epoch 11/20\n",
      "1/1 [==============================] - 0s 159ms/step - loss: 3.0874e-04 - accuracy: 1.0000 - val_loss: 6.7353e-06 - val_accuracy: 1.0000\n",
      "Epoch 12/20\n",
      "1/1 [==============================] - 0s 169ms/step - loss: 6.8247e-06 - accuracy: 1.0000 - val_loss: 7.4506e-07 - val_accuracy: 1.0000\n",
      "Epoch 13/20\n",
      "1/1 [==============================] - 0s 158ms/step - loss: 7.0780e-07 - accuracy: 1.0000 - val_loss: 2.3842e-07 - val_accuracy: 1.0000\n",
      "Epoch 14/20\n",
      "1/1 [==============================] - 0s 163ms/step - loss: 2.3842e-07 - accuracy: 1.0000 - val_loss: 1.1921e-07 - val_accuracy: 1.0000\n",
      "Epoch 15/20\n",
      "1/1 [==============================] - 0s 148ms/step - loss: 1.1921e-07 - accuracy: 1.0000 - val_loss: 0.0000e+00 - val_accuracy: 1.0000\n",
      "Epoch 16/20\n",
      "1/1 [==============================] - 0s 158ms/step - loss: 0.0000e+00 - accuracy: 1.0000 - val_loss: 0.0000e+00 - val_accuracy: 1.0000\n",
      "Epoch 17/20\n",
      "1/1 [==============================] - 0s 155ms/step - loss: 0.0000e+00 - accuracy: 1.0000 - val_loss: 0.0000e+00 - val_accuracy: 1.0000\n",
      "Epoch 18/20\n",
      "1/1 [==============================] - 0s 146ms/step - loss: 0.0000e+00 - accuracy: 1.0000 - val_loss: 0.0000e+00 - val_accuracy: 1.0000\n",
      "Epoch 19/20\n",
      "1/1 [==============================] - 0s 152ms/step - loss: 0.0000e+00 - accuracy: 1.0000 - val_loss: 0.0000e+00 - val_accuracy: 1.0000\n",
      "Epoch 20/20\n",
      "1/1 [==============================] - 0s 147ms/step - loss: 0.0000e+00 - accuracy: 1.0000 - val_loss: 0.0000e+00 - val_accuracy: 1.0000\n",
      "1/1 [==============================] - 0s 36ms/step - loss: 0.0000e+00 - accuracy: 1.0000\n",
      "Test Loss: 0.0\n",
      "Test Accuracy: 1.0\n"
     ]
    }
   ],
   "source": [
    "# Create an LSTM model with an Embedding layer and fit training data\n",
    "with tf.device('/gpu:0'):\n",
    "    model=Sequential()\n",
    "    model.add(layers.Embedding(input_dim=vocab_size,\\\n",
    "                               output_dim=100,\\\n",
    "                               input_length=40))\n",
    "    model.add(layers.Bidirectional(layers.LSTM(128)))\n",
    "    model.add(layers.Dense(2,activation='softmax'))\n",
    "    model.compile(optimizer='adam',\\\n",
    "                  loss='categorical_crossentropy',\\\n",
    "                  metrics=['accuracy'])\n",
    "    model.fit(X_train,\\\n",
    "              y_train,\\\n",
    "              batch_size=256,\\\n",
    "              epochs=20,\\\n",
    "              validation_data=(X_test,y_test))\n",
    "    test_loss, test_acc = model.evaluate(X_test,y_test)\n",
    "    print('Test Loss:', test_loss)\n",
    "    print('Test Accuracy:', test_acc)"
   ]
  },
  {
   "cell_type": "markdown",
   "metadata": {},
   "source": [
    "- **BLSTM à deux couches**"
   ]
  },
  {
   "cell_type": "code",
   "execution_count": 87,
   "metadata": {},
   "outputs": [
    {
     "name": "stdout",
     "output_type": "stream",
     "text": [
      "Epoch 1/20\n",
      "1/1 [==============================] - 47s 47s/step - loss: 0.6907 - accuracy: 0.7500 - val_loss: 0.6586 - val_accuracy: 1.0000\n",
      "Epoch 2/20\n",
      "1/1 [==============================] - 0s 332ms/step - loss: 0.6588 - accuracy: 1.0000 - val_loss: 0.6239 - val_accuracy: 1.0000\n",
      "Epoch 3/20\n",
      "1/1 [==============================] - 0s 266ms/step - loss: 0.6207 - accuracy: 1.0000 - val_loss: 0.5761 - val_accuracy: 1.0000\n",
      "Epoch 4/20\n",
      "1/1 [==============================] - 0s 266ms/step - loss: 0.5695 - accuracy: 1.0000 - val_loss: 0.5074 - val_accuracy: 1.0000\n",
      "Epoch 5/20\n",
      "1/1 [==============================] - 0s 287ms/step - loss: 0.4977 - accuracy: 1.0000 - val_loss: 0.4094 - val_accuracy: 1.0000\n",
      "Epoch 6/20\n",
      "1/1 [==============================] - 0s 281ms/step - loss: 0.3977 - accuracy: 1.0000 - val_loss: 0.2766 - val_accuracy: 1.0000\n",
      "Epoch 7/20\n",
      "1/1 [==============================] - 0s 253ms/step - loss: 0.2654 - accuracy: 1.0000 - val_loss: 0.1271 - val_accuracy: 1.0000\n",
      "Epoch 8/20\n",
      "1/1 [==============================] - 0s 274ms/step - loss: 0.1203 - accuracy: 1.0000 - val_loss: 0.0267 - val_accuracy: 1.0000\n",
      "Epoch 9/20\n",
      "1/1 [==============================] - 0s 233ms/step - loss: 0.0251 - accuracy: 1.0000 - val_loss: 0.0022 - val_accuracy: 1.0000\n",
      "Epoch 10/20\n",
      "1/1 [==============================] - 0s 236ms/step - loss: 0.0021 - accuracy: 1.0000 - val_loss: 1.8106e-04 - val_accuracy: 1.0000\n",
      "Epoch 11/20\n",
      "1/1 [==============================] - 0s 230ms/step - loss: 1.7613e-04 - accuracy: 1.0000 - val_loss: 4.0173e-05 - val_accuracy: 1.0000\n",
      "Epoch 12/20\n",
      "1/1 [==============================] - 0s 204ms/step - loss: 3.9621e-05 - accuracy: 1.0000 - val_loss: 1.7971e-05 - val_accuracy: 1.0000\n",
      "Epoch 13/20\n",
      "1/1 [==============================] - 0s 212ms/step - loss: 1.7747e-05 - accuracy: 1.0000 - val_loss: 1.0729e-05 - val_accuracy: 1.0000\n",
      "Epoch 14/20\n",
      "1/1 [==============================] - 0s 212ms/step - loss: 1.0617e-05 - accuracy: 1.0000 - val_loss: 7.2717e-06 - val_accuracy: 1.0000\n",
      "Epoch 15/20\n",
      "1/1 [==============================] - 0s 203ms/step - loss: 7.1898e-06 - accuracy: 1.0000 - val_loss: 5.2452e-06 - val_accuracy: 1.0000\n",
      "Epoch 16/20\n",
      "1/1 [==============================] - 0s 184ms/step - loss: 5.2228e-06 - accuracy: 1.0000 - val_loss: 3.9339e-06 - val_accuracy: 1.0000\n",
      "Epoch 17/20\n",
      "1/1 [==============================] - 0s 188ms/step - loss: 3.9264e-06 - accuracy: 1.0000 - val_loss: 3.0398e-06 - val_accuracy: 1.0000\n",
      "Epoch 18/20\n",
      "1/1 [==============================] - 0s 204ms/step - loss: 2.9802e-06 - accuracy: 1.0000 - val_loss: 2.3842e-06 - val_accuracy: 1.0000\n",
      "Epoch 19/20\n",
      "1/1 [==============================] - 0s 179ms/step - loss: 2.3842e-06 - accuracy: 1.0000 - val_loss: 1.9073e-06 - val_accuracy: 1.0000\n",
      "Epoch 20/20\n",
      "1/1 [==============================] - 0s 188ms/step - loss: 1.9073e-06 - accuracy: 1.0000 - val_loss: 1.5497e-06 - val_accuracy: 1.0000\n"
     ]
    },
    {
     "data": {
      "text/plain": [
       "<keras.callbacks.History at 0x34406ccf8>"
      ]
     },
     "execution_count": 87,
     "metadata": {},
     "output_type": "execute_result"
    }
   ],
   "source": [
    "# Create an LSTM model with an Embedding layer and fit training data\n",
    "model=Sequential()\n",
    "model.add(layers.Embedding(input_dim=vocab_size,\\\n",
    "                           output_dim=100,\\\n",
    "                           input_length=40))\n",
    "model.add(layers.Bidirectional(layers.LSTM(128,return_sequences=True)))\n",
    "model.add(layers.Bidirectional(layers.LSTM(64)))\n",
    "model.add(layers.Dense(2,activation='softmax'))\n",
    "model.compile(optimizer='adam',\\\n",
    "              loss='categorical_crossentropy',\\\n",
    "              metrics=['accuracy'])\n",
    "model.fit(X_train,\\\n",
    "          y_train,\\\n",
    "          batch_size=256,\\\n",
    "          epochs=20,\\\n",
    "          validation_data=(X_test,y_test))\n",
    "test_loss, test_acc = model.evaluate(X_test,y_test)\n",
    "print('Test Loss:', test_loss)\n",
    "print('Test Accuracy:', test_acc)"
   ]
  },
  {
   "cell_type": "markdown",
   "metadata": {},
   "source": [
    "- **GRU a deux couches, variante de LSTM cree en 2014 par Kyunghyun Cho et al.**\n",
    " Il a été démontré que les GRU présentent de meilleures performances sur certains ensembles de données plus petits et moins fréquents"
   ]
  },
  {
   "cell_type": "code",
   "execution_count": 94,
   "metadata": {},
   "outputs": [
    {
     "name": "stdout",
     "output_type": "stream",
     "text": [
      "Model: \"sequential_23\"\n",
      "_________________________________________________________________\n",
      "Layer (type)                 Output Shape              Param #   \n",
      "=================================================================\n",
      "embedding_21 (Embedding)     (None, 40, 100)           122900    \n",
      "_________________________________________________________________\n",
      "gru_2 (GRU)                  (None, 40, 128)           88320     \n",
      "_________________________________________________________________\n",
      "gru_3 (GRU)                  (None, 128)               99072     \n",
      "_________________________________________________________________\n",
      "dense_45 (Dense)             (None, 2)                 258       \n",
      "=================================================================\n",
      "Total params: 310,550\n",
      "Trainable params: 310,550\n",
      "Non-trainable params: 0\n",
      "_________________________________________________________________\n",
      "None\n",
      "Epoch 1/20\n",
      "1/1 [==============================] - 22s 22s/step - loss: 0.6930 - accuracy: 0.6250 - val_loss: 0.6592 - val_accuracy: 1.0000\n",
      "Epoch 2/20\n",
      "1/1 [==============================] - 0s 424ms/step - loss: 0.6540 - accuracy: 1.0000 - val_loss: 0.6222 - val_accuracy: 1.0000\n",
      "Epoch 3/20\n",
      "1/1 [==============================] - 0s 371ms/step - loss: 0.6114 - accuracy: 1.0000 - val_loss: 0.5764 - val_accuracy: 1.0000\n",
      "Epoch 4/20\n",
      "1/1 [==============================] - 0s 387ms/step - loss: 0.5592 - accuracy: 1.0000 - val_loss: 0.5186 - val_accuracy: 1.0000\n",
      "Epoch 5/20\n",
      "1/1 [==============================] - 0s 345ms/step - loss: 0.4942 - accuracy: 1.0000 - val_loss: 0.4461 - val_accuracy: 1.0000\n",
      "Epoch 6/20\n",
      "1/1 [==============================] - 0s 328ms/step - loss: 0.4143 - accuracy: 1.0000 - val_loss: 0.3576 - val_accuracy: 1.0000\n",
      "Epoch 7/20\n",
      "1/1 [==============================] - 0s 276ms/step - loss: 0.3199 - accuracy: 1.0000 - val_loss: 0.2554 - val_accuracy: 1.0000\n",
      "Epoch 8/20\n",
      "1/1 [==============================] - 0s 219ms/step - loss: 0.2163 - accuracy: 1.0000 - val_loss: 0.1499 - val_accuracy: 1.0000\n",
      "Epoch 9/20\n",
      "1/1 [==============================] - 0s 249ms/step - loss: 0.1171 - accuracy: 1.0000 - val_loss: 0.0624 - val_accuracy: 1.0000\n",
      "Epoch 10/20\n",
      "1/1 [==============================] - 0s 203ms/step - loss: 0.0435 - accuracy: 1.0000 - val_loss: 0.0145 - val_accuracy: 1.0000\n",
      "Epoch 11/20\n",
      "1/1 [==============================] - 0s 172ms/step - loss: 0.0087 - accuracy: 1.0000 - val_loss: 0.0015 - val_accuracy: 1.0000\n",
      "Epoch 12/20\n",
      "1/1 [==============================] - 0s 188ms/step - loss: 7.5808e-04 - accuracy: 1.0000 - val_loss: 6.6010e-05 - val_accuracy: 1.0000\n",
      "Epoch 13/20\n",
      "1/1 [==============================] - 0s 172ms/step - loss: 3.2417e-05 - accuracy: 1.0000 - val_loss: 2.8014e-06 - val_accuracy: 1.0000\n",
      "Epoch 14/20\n",
      "1/1 [==============================] - 0s 188ms/step - loss: 1.4827e-06 - accuracy: 1.0000 - val_loss: 2.0862e-07 - val_accuracy: 1.0000\n",
      "Epoch 15/20\n",
      "1/1 [==============================] - 0s 172ms/step - loss: 1.1921e-07 - accuracy: 1.0000 - val_loss: 0.0000e+00 - val_accuracy: 1.0000\n",
      "Epoch 16/20\n",
      "1/1 [==============================] - 0s 203ms/step - loss: 0.0000e+00 - accuracy: 1.0000 - val_loss: 0.0000e+00 - val_accuracy: 1.0000\n",
      "Epoch 17/20\n",
      "1/1 [==============================] - 0s 203ms/step - loss: 0.0000e+00 - accuracy: 1.0000 - val_loss: 0.0000e+00 - val_accuracy: 1.0000\n",
      "Epoch 18/20\n",
      "1/1 [==============================] - 0s 172ms/step - loss: 0.0000e+00 - accuracy: 1.0000 - val_loss: 0.0000e+00 - val_accuracy: 1.0000\n",
      "Epoch 19/20\n",
      "1/1 [==============================] - 0s 172ms/step - loss: 0.0000e+00 - accuracy: 1.0000 - val_loss: 0.0000e+00 - val_accuracy: 1.0000\n",
      "Epoch 20/20\n",
      "1/1 [==============================] - 0s 172ms/step - loss: 0.0000e+00 - accuracy: 1.0000 - val_loss: 0.0000e+00 - val_accuracy: 1.0000\n",
      "1/1 [==============================] - 0s 31ms/step - loss: 0.0000e+00 - accuracy: 1.0000\n",
      "Test Loss: 0.0\n",
      "Test Accuracy: 1.0\n"
     ]
    }
   ],
   "source": [
    "# Create an LSTM model with an Embedding layer and fit training data\n",
    "model=Sequential()\n",
    "model.add(layers.Embedding(input_dim=vocab_size,\\\n",
    "                           output_dim=100,\\\n",
    "                           input_length=40))\n",
    "model.add(layers.GRU(128,return_sequences=True))\n",
    "model.add(layers.GRU(128))\n",
    "model.add(layers.Dense(2,activation='softmax'))\n",
    "print(model.summary())\n",
    "model.compile(optimizer='adam',\\\n",
    "              loss='categorical_crossentropy',\\\n",
    "              metrics=['accuracy'])\n",
    "model.fit(X_train,\\\n",
    "          y_train,\\\n",
    "          batch_size=256,\\\n",
    "          epochs=20,\\\n",
    "          validation_data=(X_test,y_test))\n",
    "\n",
    "test_loss, test_acc = model.evaluate(X_test,y_test)\n",
    "print('Test Loss:', test_loss)\n",
    "print('Test Accuracy:', test_acc)"
   ]
  },
  {
   "cell_type": "code",
   "execution_count": null,
   "metadata": {},
   "outputs": [],
   "source": []
  },
  {
   "cell_type": "code",
   "execution_count": null,
   "metadata": {},
   "outputs": [],
   "source": []
  },
  {
   "cell_type": "markdown",
   "metadata": {},
   "source": [
    "**Eteindre l'ordinateur**"
   ]
  },
  {
   "cell_type": "code",
   "execution_count": 153,
   "metadata": {},
   "outputs": [],
   "source": [
    "#Eteindre l'ordinateur \n",
    "import os\n",
    "os.system(\"shutdown/s/t 0\")"
   ]
  }
 ],
 "metadata": {
  "kernelspec": {
   "display_name": "Python 3",
   "language": "python",
   "name": "python3"
  },
  "language_info": {
   "codemirror_mode": {
    "name": "ipython",
    "version": 3
   },
   "file_extension": ".py",
   "mimetype": "text/x-python",
   "name": "python",
   "nbconvert_exporter": "python",
   "pygments_lexer": "ipython3",
   "version": "3.6.10"
  }
 },
 "nbformat": 4,
 "nbformat_minor": 4
}
